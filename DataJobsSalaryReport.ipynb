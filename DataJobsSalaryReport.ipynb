{
  "cells": [
    {
      "cell_type": "markdown",
      "id": "a35b1314",
      "metadata": {
        "papermill": {
          "duration": 0.006999,
          "end_time": "2022-07-27T20:44:38.379664",
          "exception": false,
          "start_time": "2022-07-27T20:44:38.372665",
          "status": "completed"
        },
        "tags": [],
        "id": "a35b1314"
      },
      "source": [
        "Student Name - Gauri Damle\n",
        "ID - NU002931881"
      ]
    },
    {
      "cell_type": "markdown",
      "source": [
        "# **Assignment 5**"
      ],
      "metadata": {
        "id": "QhVuwIRcpbF7"
      },
      "id": "QhVuwIRcpbF7"
    },
    {
      "cell_type": "markdown",
      "source": [
        "\n",
        "\n",
        "1. Who is getting more salary on the experience, company size, and job type level (\"employment_type\", \"experience_level\", \"company_size\") \n",
        "2. Show the top 10 companies that have more jobs. \n",
        "3. Show the remote job ratio by job title. \n",
        "4. Remote job growth ratio by year (how remote jobs are rising).\n",
        "5. Data Scientist jobs average salary in USD by geographic distribution (create the maps). \n",
        "6. Which geography has more data science jobs than other roles? "
      ],
      "metadata": {
        "id": "rwFGhbLPpbxR"
      },
      "id": "rwFGhbLPpbxR"
    },
    {
      "cell_type": "code",
      "execution_count": null,
      "id": "cde3ef2b",
      "metadata": {
        "_cell_guid": "b1076dfc-b9ad-4769-8c92-a6c4dae69d19",
        "_uuid": "8f2839f25d086af736a60e9eeb907d3b93b6e0e5",
        "execution": {
          "iopub.execute_input": "2022-07-27T20:44:38.393241Z",
          "iopub.status.busy": "2022-07-27T20:44:38.392793Z",
          "iopub.status.idle": "2022-07-27T20:44:38.402829Z",
          "shell.execute_reply": "2022-07-27T20:44:38.402042Z"
        },
        "papermill": {
          "duration": 0.019405,
          "end_time": "2022-07-27T20:44:38.405007",
          "exception": false,
          "start_time": "2022-07-27T20:44:38.385602",
          "status": "completed"
        },
        "tags": [],
        "id": "cde3ef2b"
      },
      "outputs": [],
      "source": [
        "# import important libraries\n",
        "import numpy as np\n",
        "import pandas as pd\n",
        "import seaborn as sns\n",
        "import matplotlib.pyplot as plt"
      ]
    },
    {
      "cell_type": "code",
      "execution_count": null,
      "id": "58326b6d",
      "metadata": {
        "execution": {
          "iopub.execute_input": "2022-07-27T20:44:38.418616Z",
          "iopub.status.busy": "2022-07-27T20:44:38.418081Z",
          "iopub.status.idle": "2022-07-27T20:44:39.866275Z",
          "shell.execute_reply": "2022-07-27T20:44:39.865266Z"
        },
        "papermill": {
          "duration": 1.457718,
          "end_time": "2022-07-27T20:44:39.868617",
          "exception": false,
          "start_time": "2022-07-27T20:44:38.410899",
          "status": "completed"
        },
        "tags": [],
        "id": "58326b6d",
        "colab": {
          "base_uri": "https://localhost:8080/"
        },
        "outputId": "33c3d0e0-5bad-469a-f953-ddd5e8435fa9"
      },
      "outputs": [
        {
          "output_type": "stream",
          "name": "stdout",
          "text": [
            "Looking in indexes: https://pypi.org/simple, https://us-python.pkg.dev/colab-wheels/public/simple/\n",
            "Requirement already satisfied: datawrapper in /usr/local/lib/python3.7/dist-packages (0.4.6)\n",
            "Requirement already satisfied: requests<3.0.0,>=2.25.1 in /usr/local/lib/python3.7/dist-packages (from datawrapper) (2.28.1)\n",
            "Requirement already satisfied: pandas<2.0.0,>=1.2.3 in /usr/local/lib/python3.7/dist-packages (from datawrapper) (1.3.5)\n",
            "Requirement already satisfied: ipython<8.0.0,>=7.22.0 in /usr/local/lib/python3.7/dist-packages (from datawrapper) (7.34.0)\n",
            "Requirement already satisfied: importlib_metadata<4.0,>=1.6 in /usr/local/lib/python3.7/dist-packages (from datawrapper) (3.10.1)\n",
            "Requirement already satisfied: rich<11.0.0,>=9.8.2 in /usr/local/lib/python3.7/dist-packages (from datawrapper) (10.16.2)\n",
            "Requirement already satisfied: typing-extensions>=3.6.4 in /usr/local/lib/python3.7/dist-packages (from importlib_metadata<4.0,>=1.6->datawrapper) (4.1.1)\n",
            "Requirement already satisfied: zipp>=0.5 in /usr/local/lib/python3.7/dist-packages (from importlib_metadata<4.0,>=1.6->datawrapper) (3.8.1)\n",
            "Requirement already satisfied: jedi>=0.16 in /usr/local/lib/python3.7/dist-packages (from ipython<8.0.0,>=7.22.0->datawrapper) (0.18.1)\n",
            "Requirement already satisfied: pickleshare in /usr/local/lib/python3.7/dist-packages (from ipython<8.0.0,>=7.22.0->datawrapper) (0.7.5)\n",
            "Requirement already satisfied: prompt-toolkit!=3.0.0,!=3.0.1,<3.1.0,>=2.0.0 in /usr/local/lib/python3.7/dist-packages (from ipython<8.0.0,>=7.22.0->datawrapper) (3.0.30)\n",
            "Requirement already satisfied: backcall in /usr/local/lib/python3.7/dist-packages (from ipython<8.0.0,>=7.22.0->datawrapper) (0.2.0)\n",
            "Requirement already satisfied: setuptools>=18.5 in /usr/local/lib/python3.7/dist-packages (from ipython<8.0.0,>=7.22.0->datawrapper) (57.4.0)\n",
            "Requirement already satisfied: pygments in /usr/local/lib/python3.7/dist-packages (from ipython<8.0.0,>=7.22.0->datawrapper) (2.6.1)\n",
            "Requirement already satisfied: decorator in /usr/local/lib/python3.7/dist-packages (from ipython<8.0.0,>=7.22.0->datawrapper) (4.4.2)\n",
            "Requirement already satisfied: pexpect>4.3 in /usr/local/lib/python3.7/dist-packages (from ipython<8.0.0,>=7.22.0->datawrapper) (4.8.0)\n",
            "Requirement already satisfied: matplotlib-inline in /usr/local/lib/python3.7/dist-packages (from ipython<8.0.0,>=7.22.0->datawrapper) (0.1.3)\n",
            "Requirement already satisfied: traitlets>=4.2 in /usr/local/lib/python3.7/dist-packages (from ipython<8.0.0,>=7.22.0->datawrapper) (5.1.1)\n",
            "Requirement already satisfied: parso<0.9.0,>=0.8.0 in /usr/local/lib/python3.7/dist-packages (from jedi>=0.16->ipython<8.0.0,>=7.22.0->datawrapper) (0.8.3)\n",
            "Requirement already satisfied: python-dateutil>=2.7.3 in /usr/local/lib/python3.7/dist-packages (from pandas<2.0.0,>=1.2.3->datawrapper) (2.8.2)\n",
            "Requirement already satisfied: pytz>=2017.3 in /usr/local/lib/python3.7/dist-packages (from pandas<2.0.0,>=1.2.3->datawrapper) (2022.1)\n",
            "Requirement already satisfied: numpy>=1.17.3 in /usr/local/lib/python3.7/dist-packages (from pandas<2.0.0,>=1.2.3->datawrapper) (1.21.6)\n",
            "Requirement already satisfied: ptyprocess>=0.5 in /usr/local/lib/python3.7/dist-packages (from pexpect>4.3->ipython<8.0.0,>=7.22.0->datawrapper) (0.7.0)\n",
            "Requirement already satisfied: wcwidth in /usr/local/lib/python3.7/dist-packages (from prompt-toolkit!=3.0.0,!=3.0.1,<3.1.0,>=2.0.0->ipython<8.0.0,>=7.22.0->datawrapper) (0.2.5)\n",
            "Requirement already satisfied: six>=1.5 in /usr/local/lib/python3.7/dist-packages (from python-dateutil>=2.7.3->pandas<2.0.0,>=1.2.3->datawrapper) (1.15.0)\n",
            "Requirement already satisfied: certifi>=2017.4.17 in /usr/local/lib/python3.7/dist-packages (from requests<3.0.0,>=2.25.1->datawrapper) (2022.6.15)\n",
            "Requirement already satisfied: charset-normalizer<3,>=2 in /usr/local/lib/python3.7/dist-packages (from requests<3.0.0,>=2.25.1->datawrapper) (2.1.0)\n",
            "Requirement already satisfied: idna<4,>=2.5 in /usr/local/lib/python3.7/dist-packages (from requests<3.0.0,>=2.25.1->datawrapper) (2.10)\n",
            "Requirement already satisfied: urllib3<1.27,>=1.21.1 in /usr/local/lib/python3.7/dist-packages (from requests<3.0.0,>=2.25.1->datawrapper) (1.24.3)\n",
            "Requirement already satisfied: commonmark<0.10.0,>=0.9.0 in /usr/local/lib/python3.7/dist-packages (from rich<11.0.0,>=9.8.2->datawrapper) (0.9.1)\n",
            "Requirement already satisfied: colorama<0.5.0,>=0.4.0 in /usr/local/lib/python3.7/dist-packages (from rich<11.0.0,>=9.8.2->datawrapper) (0.4.5)\n"
          ]
        }
      ],
      "source": [
        "!pip install datawrapper\n",
        "from datawrapper import Datawrapper\n",
        "import pandas as pd"
      ]
    },
    {
      "cell_type": "code",
      "execution_count": null,
      "id": "bb459d4f",
      "metadata": {
        "execution": {
          "iopub.execute_input": "2022-07-27T20:44:39.882512Z",
          "iopub.status.busy": "2022-07-27T20:44:39.882164Z",
          "iopub.status.idle": "2022-07-27T20:44:39.894761Z",
          "shell.execute_reply": "2022-07-27T20:44:39.893590Z"
        },
        "papermill": {
          "duration": 0.021962,
          "end_time": "2022-07-27T20:44:39.896882",
          "exception": false,
          "start_time": "2022-07-27T20:44:39.874920",
          "status": "completed"
        },
        "tags": [],
        "colab": {
          "base_uri": "https://localhost:8080/"
        },
        "id": "bb459d4f",
        "outputId": "3113f731-ac00-4acb-94e7-051a1c4f2e66"
      },
      "outputs": [
        {
          "output_type": "stream",
          "name": "stdout",
          "text": [
            "Drive already mounted at /content/drive; to attempt to forcibly remount, call drive.mount(\"/content/drive\", force_remount=True).\n"
          ]
        }
      ],
      "source": [
        "from google.colab import drive\n",
        "drive.mount('/content/drive')"
      ]
    },
    {
      "cell_type": "markdown",
      "id": "4cca0018",
      "metadata": {
        "papermill": {
          "duration": 0.005702,
          "end_time": "2022-07-27T20:44:39.908436",
          "exception": false,
          "start_time": "2022-07-27T20:44:39.902734",
          "status": "completed"
        },
        "tags": [],
        "id": "4cca0018"
      },
      "source": [
        "# Reading & Processing Data"
      ]
    },
    {
      "cell_type": "code",
      "execution_count": null,
      "id": "e008cb92",
      "metadata": {
        "execution": {
          "iopub.execute_input": "2022-07-27T20:44:39.922489Z",
          "iopub.status.busy": "2022-07-27T20:44:39.921422Z",
          "iopub.status.idle": "2022-07-27T20:44:39.976864Z",
          "shell.execute_reply": "2022-07-27T20:44:39.975771Z"
        },
        "papermill": {
          "duration": 0.064731,
          "end_time": "2022-07-27T20:44:39.979160",
          "exception": false,
          "start_time": "2022-07-27T20:44:39.914429",
          "status": "completed"
        },
        "tags": [],
        "id": "e008cb92",
        "colab": {
          "base_uri": "https://localhost:8080/",
          "height": 424
        },
        "outputId": "88996ed5-c42d-4684-a7fb-0d9c1e3326a1"
      },
      "outputs": [
        {
          "output_type": "execute_result",
          "data": {
            "text/plain": [
              "     work_year experience_level employment_type                   job_title  \\\n",
              "0         2020               MI              FT              Data Scientist   \n",
              "1         2020               SE              FT  Machine Learning Scientist   \n",
              "2         2020               SE              FT           Big Data Engineer   \n",
              "3         2020               MI              FT        Product Data Analyst   \n",
              "4         2020               SE              FT   Machine Learning Engineer   \n",
              "..         ...              ...             ...                         ...   \n",
              "602       2022               SE              FT               Data Engineer   \n",
              "603       2022               SE              FT               Data Engineer   \n",
              "604       2022               SE              FT                Data Analyst   \n",
              "605       2022               SE              FT                Data Analyst   \n",
              "606       2022               MI              FT                AI Scientist   \n",
              "\n",
              "     salary salary_currency  salary_in_usd employee_residence  remote_ratio  \\\n",
              "0     70000             EUR          79833                 DE             0   \n",
              "1    260000             USD         260000                 JP             0   \n",
              "2     85000             GBP         109024                 GB            50   \n",
              "3     20000             USD          20000                 HN             0   \n",
              "4    150000             USD         150000                 US            50   \n",
              "..      ...             ...            ...                ...           ...   \n",
              "602  154000             USD         154000                 US           100   \n",
              "603  126000             USD         126000                 US           100   \n",
              "604  129000             USD         129000                 US             0   \n",
              "605  150000             USD         150000                 US           100   \n",
              "606  200000             USD         200000                 IN           100   \n",
              "\n",
              "    company_location company_size  \n",
              "0                 DE            L  \n",
              "1                 JP            S  \n",
              "2                 GB            M  \n",
              "3                 HN            S  \n",
              "4                 US            L  \n",
              "..               ...          ...  \n",
              "602               US            M  \n",
              "603               US            M  \n",
              "604               US            M  \n",
              "605               US            M  \n",
              "606               US            L  \n",
              "\n",
              "[607 rows x 11 columns]"
            ],
            "text/html": [
              "\n",
              "  <div id=\"df-b1fa972a-1b05-41e0-aab9-d77f71966813\">\n",
              "    <div class=\"colab-df-container\">\n",
              "      <div>\n",
              "<style scoped>\n",
              "    .dataframe tbody tr th:only-of-type {\n",
              "        vertical-align: middle;\n",
              "    }\n",
              "\n",
              "    .dataframe tbody tr th {\n",
              "        vertical-align: top;\n",
              "    }\n",
              "\n",
              "    .dataframe thead th {\n",
              "        text-align: right;\n",
              "    }\n",
              "</style>\n",
              "<table border=\"1\" class=\"dataframe\">\n",
              "  <thead>\n",
              "    <tr style=\"text-align: right;\">\n",
              "      <th></th>\n",
              "      <th>work_year</th>\n",
              "      <th>experience_level</th>\n",
              "      <th>employment_type</th>\n",
              "      <th>job_title</th>\n",
              "      <th>salary</th>\n",
              "      <th>salary_currency</th>\n",
              "      <th>salary_in_usd</th>\n",
              "      <th>employee_residence</th>\n",
              "      <th>remote_ratio</th>\n",
              "      <th>company_location</th>\n",
              "      <th>company_size</th>\n",
              "    </tr>\n",
              "  </thead>\n",
              "  <tbody>\n",
              "    <tr>\n",
              "      <th>0</th>\n",
              "      <td>2020</td>\n",
              "      <td>MI</td>\n",
              "      <td>FT</td>\n",
              "      <td>Data Scientist</td>\n",
              "      <td>70000</td>\n",
              "      <td>EUR</td>\n",
              "      <td>79833</td>\n",
              "      <td>DE</td>\n",
              "      <td>0</td>\n",
              "      <td>DE</td>\n",
              "      <td>L</td>\n",
              "    </tr>\n",
              "    <tr>\n",
              "      <th>1</th>\n",
              "      <td>2020</td>\n",
              "      <td>SE</td>\n",
              "      <td>FT</td>\n",
              "      <td>Machine Learning Scientist</td>\n",
              "      <td>260000</td>\n",
              "      <td>USD</td>\n",
              "      <td>260000</td>\n",
              "      <td>JP</td>\n",
              "      <td>0</td>\n",
              "      <td>JP</td>\n",
              "      <td>S</td>\n",
              "    </tr>\n",
              "    <tr>\n",
              "      <th>2</th>\n",
              "      <td>2020</td>\n",
              "      <td>SE</td>\n",
              "      <td>FT</td>\n",
              "      <td>Big Data Engineer</td>\n",
              "      <td>85000</td>\n",
              "      <td>GBP</td>\n",
              "      <td>109024</td>\n",
              "      <td>GB</td>\n",
              "      <td>50</td>\n",
              "      <td>GB</td>\n",
              "      <td>M</td>\n",
              "    </tr>\n",
              "    <tr>\n",
              "      <th>3</th>\n",
              "      <td>2020</td>\n",
              "      <td>MI</td>\n",
              "      <td>FT</td>\n",
              "      <td>Product Data Analyst</td>\n",
              "      <td>20000</td>\n",
              "      <td>USD</td>\n",
              "      <td>20000</td>\n",
              "      <td>HN</td>\n",
              "      <td>0</td>\n",
              "      <td>HN</td>\n",
              "      <td>S</td>\n",
              "    </tr>\n",
              "    <tr>\n",
              "      <th>4</th>\n",
              "      <td>2020</td>\n",
              "      <td>SE</td>\n",
              "      <td>FT</td>\n",
              "      <td>Machine Learning Engineer</td>\n",
              "      <td>150000</td>\n",
              "      <td>USD</td>\n",
              "      <td>150000</td>\n",
              "      <td>US</td>\n",
              "      <td>50</td>\n",
              "      <td>US</td>\n",
              "      <td>L</td>\n",
              "    </tr>\n",
              "    <tr>\n",
              "      <th>...</th>\n",
              "      <td>...</td>\n",
              "      <td>...</td>\n",
              "      <td>...</td>\n",
              "      <td>...</td>\n",
              "      <td>...</td>\n",
              "      <td>...</td>\n",
              "      <td>...</td>\n",
              "      <td>...</td>\n",
              "      <td>...</td>\n",
              "      <td>...</td>\n",
              "      <td>...</td>\n",
              "    </tr>\n",
              "    <tr>\n",
              "      <th>602</th>\n",
              "      <td>2022</td>\n",
              "      <td>SE</td>\n",
              "      <td>FT</td>\n",
              "      <td>Data Engineer</td>\n",
              "      <td>154000</td>\n",
              "      <td>USD</td>\n",
              "      <td>154000</td>\n",
              "      <td>US</td>\n",
              "      <td>100</td>\n",
              "      <td>US</td>\n",
              "      <td>M</td>\n",
              "    </tr>\n",
              "    <tr>\n",
              "      <th>603</th>\n",
              "      <td>2022</td>\n",
              "      <td>SE</td>\n",
              "      <td>FT</td>\n",
              "      <td>Data Engineer</td>\n",
              "      <td>126000</td>\n",
              "      <td>USD</td>\n",
              "      <td>126000</td>\n",
              "      <td>US</td>\n",
              "      <td>100</td>\n",
              "      <td>US</td>\n",
              "      <td>M</td>\n",
              "    </tr>\n",
              "    <tr>\n",
              "      <th>604</th>\n",
              "      <td>2022</td>\n",
              "      <td>SE</td>\n",
              "      <td>FT</td>\n",
              "      <td>Data Analyst</td>\n",
              "      <td>129000</td>\n",
              "      <td>USD</td>\n",
              "      <td>129000</td>\n",
              "      <td>US</td>\n",
              "      <td>0</td>\n",
              "      <td>US</td>\n",
              "      <td>M</td>\n",
              "    </tr>\n",
              "    <tr>\n",
              "      <th>605</th>\n",
              "      <td>2022</td>\n",
              "      <td>SE</td>\n",
              "      <td>FT</td>\n",
              "      <td>Data Analyst</td>\n",
              "      <td>150000</td>\n",
              "      <td>USD</td>\n",
              "      <td>150000</td>\n",
              "      <td>US</td>\n",
              "      <td>100</td>\n",
              "      <td>US</td>\n",
              "      <td>M</td>\n",
              "    </tr>\n",
              "    <tr>\n",
              "      <th>606</th>\n",
              "      <td>2022</td>\n",
              "      <td>MI</td>\n",
              "      <td>FT</td>\n",
              "      <td>AI Scientist</td>\n",
              "      <td>200000</td>\n",
              "      <td>USD</td>\n",
              "      <td>200000</td>\n",
              "      <td>IN</td>\n",
              "      <td>100</td>\n",
              "      <td>US</td>\n",
              "      <td>L</td>\n",
              "    </tr>\n",
              "  </tbody>\n",
              "</table>\n",
              "<p>607 rows × 11 columns</p>\n",
              "</div>\n",
              "      <button class=\"colab-df-convert\" onclick=\"convertToInteractive('df-b1fa972a-1b05-41e0-aab9-d77f71966813')\"\n",
              "              title=\"Convert this dataframe to an interactive table.\"\n",
              "              style=\"display:none;\">\n",
              "        \n",
              "  <svg xmlns=\"http://www.w3.org/2000/svg\" height=\"24px\"viewBox=\"0 0 24 24\"\n",
              "       width=\"24px\">\n",
              "    <path d=\"M0 0h24v24H0V0z\" fill=\"none\"/>\n",
              "    <path d=\"M18.56 5.44l.94 2.06.94-2.06 2.06-.94-2.06-.94-.94-2.06-.94 2.06-2.06.94zm-11 1L8.5 8.5l.94-2.06 2.06-.94-2.06-.94L8.5 2.5l-.94 2.06-2.06.94zm10 10l.94 2.06.94-2.06 2.06-.94-2.06-.94-.94-2.06-.94 2.06-2.06.94z\"/><path d=\"M17.41 7.96l-1.37-1.37c-.4-.4-.92-.59-1.43-.59-.52 0-1.04.2-1.43.59L10.3 9.45l-7.72 7.72c-.78.78-.78 2.05 0 2.83L4 21.41c.39.39.9.59 1.41.59.51 0 1.02-.2 1.41-.59l7.78-7.78 2.81-2.81c.8-.78.8-2.07 0-2.86zM5.41 20L4 18.59l7.72-7.72 1.47 1.35L5.41 20z\"/>\n",
              "  </svg>\n",
              "      </button>\n",
              "      \n",
              "  <style>\n",
              "    .colab-df-container {\n",
              "      display:flex;\n",
              "      flex-wrap:wrap;\n",
              "      gap: 12px;\n",
              "    }\n",
              "\n",
              "    .colab-df-convert {\n",
              "      background-color: #E8F0FE;\n",
              "      border: none;\n",
              "      border-radius: 50%;\n",
              "      cursor: pointer;\n",
              "      display: none;\n",
              "      fill: #1967D2;\n",
              "      height: 32px;\n",
              "      padding: 0 0 0 0;\n",
              "      width: 32px;\n",
              "    }\n",
              "\n",
              "    .colab-df-convert:hover {\n",
              "      background-color: #E2EBFA;\n",
              "      box-shadow: 0px 1px 2px rgba(60, 64, 67, 0.3), 0px 1px 3px 1px rgba(60, 64, 67, 0.15);\n",
              "      fill: #174EA6;\n",
              "    }\n",
              "\n",
              "    [theme=dark] .colab-df-convert {\n",
              "      background-color: #3B4455;\n",
              "      fill: #D2E3FC;\n",
              "    }\n",
              "\n",
              "    [theme=dark] .colab-df-convert:hover {\n",
              "      background-color: #434B5C;\n",
              "      box-shadow: 0px 1px 3px 1px rgba(0, 0, 0, 0.15);\n",
              "      filter: drop-shadow(0px 1px 2px rgba(0, 0, 0, 0.3));\n",
              "      fill: #FFFFFF;\n",
              "    }\n",
              "  </style>\n",
              "\n",
              "      <script>\n",
              "        const buttonEl =\n",
              "          document.querySelector('#df-b1fa972a-1b05-41e0-aab9-d77f71966813 button.colab-df-convert');\n",
              "        buttonEl.style.display =\n",
              "          google.colab.kernel.accessAllowed ? 'block' : 'none';\n",
              "\n",
              "        async function convertToInteractive(key) {\n",
              "          const element = document.querySelector('#df-b1fa972a-1b05-41e0-aab9-d77f71966813');\n",
              "          const dataTable =\n",
              "            await google.colab.kernel.invokeFunction('convertToInteractive',\n",
              "                                                     [key], {});\n",
              "          if (!dataTable) return;\n",
              "\n",
              "          const docLinkHtml = 'Like what you see? Visit the ' +\n",
              "            '<a target=\"_blank\" href=https://colab.research.google.com/notebooks/data_table.ipynb>data table notebook</a>'\n",
              "            + ' to learn more about interactive tables.';\n",
              "          element.innerHTML = '';\n",
              "          dataTable['output_type'] = 'display_data';\n",
              "          await google.colab.output.renderOutput(dataTable, element);\n",
              "          const docLink = document.createElement('div');\n",
              "          docLink.innerHTML = docLinkHtml;\n",
              "          element.appendChild(docLink);\n",
              "        }\n",
              "      </script>\n",
              "    </div>\n",
              "  </div>\n",
              "  "
            ]
          },
          "metadata": {},
          "execution_count": 80
        }
      ],
      "source": [
        "#country_mapping = pd.read_csv(\"/kaggle/input/country-mapping-iso-continent-region/continents2.csv\")\n",
        "data = pd.read_csv(\"/content/drive/MyDrive/SemesterTwo/6600/6600ComputationAndVisualization/Assignment5/ds_salaries.csv\")\n",
        "data"
      ]
    },
    {
      "cell_type": "code",
      "execution_count": null,
      "id": "ebb6c32a",
      "metadata": {
        "execution": {
          "iopub.execute_input": "2022-07-27T20:44:39.994369Z",
          "iopub.status.busy": "2022-07-27T20:44:39.993992Z",
          "iopub.status.idle": "2022-07-27T20:44:40.003512Z",
          "shell.execute_reply": "2022-07-27T20:44:40.002463Z"
        },
        "papermill": {
          "duration": 0.019471,
          "end_time": "2022-07-27T20:44:40.005331",
          "exception": false,
          "start_time": "2022-07-27T20:44:39.985860",
          "status": "completed"
        },
        "tags": [],
        "colab": {
          "base_uri": "https://localhost:8080/"
        },
        "id": "ebb6c32a",
        "outputId": "3a98ff5e-7261-4b4a-ffeb-fb7cf2639527"
      },
      "outputs": [
        {
          "output_type": "execute_result",
          "data": {
            "text/plain": [
              "work_year             0\n",
              "experience_level      0\n",
              "employment_type       0\n",
              "job_title             0\n",
              "salary                0\n",
              "salary_currency       0\n",
              "salary_in_usd         0\n",
              "employee_residence    0\n",
              "remote_ratio          0\n",
              "company_location      0\n",
              "company_size          0\n",
              "dtype: int64"
            ]
          },
          "metadata": {},
          "execution_count": 81
        }
      ],
      "source": [
        "data.isna().sum()"
      ]
    },
    {
      "cell_type": "code",
      "source": [
        "# We'll update some columns' values based on the data description\n",
        "data[\"employment_type\"] = data[\"employment_type\"].replace({\"FT\": \"Full Time\", \"PT\": \"Part Time\", \"CT\": \"Contract\", \"FL\": \"Freelance\"})\n",
        "data[\"company_size\"] = data[\"company_size\"].replace({\"S\": \"Small\", \"M\": \"Medium\", \"L\":\"Large\"})\n",
        "data[\"experience_level\"] = data[\"experience_level\"].replace({\"EN\": \"Entry Level/Junior\", \"MI\": \"Mid Level/Intermediate\", \"SE\": \"Senior Level/Expert\", \"EX\": \"Executive Level/Director\"})"
      ],
      "metadata": {
        "id": "eH4cWvGWJsae"
      },
      "id": "eH4cWvGWJsae",
      "execution_count": null,
      "outputs": []
    },
    {
      "cell_type": "code",
      "source": [
        "data[\"Same_Location\"] = (data[\"employee_residence\"] == data[\"company_location\"]).to_numpy()"
      ],
      "metadata": {
        "id": "xIJxwG-dJwa4"
      },
      "id": "xIJxwG-dJwa4",
      "execution_count": null,
      "outputs": []
    },
    {
      "cell_type": "code",
      "source": [
        "data.columns"
      ],
      "metadata": {
        "colab": {
          "base_uri": "https://localhost:8080/"
        },
        "id": "t2ZKrgmTKzJa",
        "outputId": "45ec1ea7-bdfc-42c0-c379-fed409957227"
      },
      "id": "t2ZKrgmTKzJa",
      "execution_count": null,
      "outputs": [
        {
          "output_type": "execute_result",
          "data": {
            "text/plain": [
              "Index(['work_year', 'experience_level', 'employment_type', 'job_title',\n",
              "       'salary', 'salary_currency', 'salary_in_usd', 'employee_residence',\n",
              "       'remote_ratio', 'company_location', 'company_size', 'Same_Location'],\n",
              "      dtype='object')"
            ]
          },
          "metadata": {},
          "execution_count": 84
        }
      ]
    },
    {
      "cell_type": "markdown",
      "source": [
        "# 1. Who is getting more salary on the experience, company size, and job type level (\"employment_type\", \"experience_level\", \"company_size\") "
      ],
      "metadata": {
        "id": "c95rTizGuAXH"
      },
      "id": "c95rTizGuAXH"
    },
    {
      "cell_type": "code",
      "source": [
        "list_values = [\"employment_type\", \"experience_level\", \"company_size\"]\n",
        "for no,i in enumerate(list_values):\n",
        "  \n",
        "  sns.catplot(x=i, y='salary', data = data, kind='point', aspect=2)\n",
        "  plt.title('Salary based on {}'.format(i))"
      ],
      "metadata": {
        "colab": {
          "base_uri": "https://localhost:8080/",
          "height": 1000
        },
        "id": "IhZSLuz1qsAf",
        "outputId": "acdcc03b-616a-4a98-f241-48f476c57288"
      },
      "id": "IhZSLuz1qsAf",
      "execution_count": null,
      "outputs": [
        {
          "output_type": "display_data",
          "data": {
            "text/plain": [
              "<Figure size 720x360 with 1 Axes>"
            ],
            "image/png": "[encoded data removed]"
          },
          "metadata": {
            "needs_background": "light"
          }
        },
        {
          "output_type": "display_data",
          "data": {
            "text/plain": [
              "<Figure size 720x360 with 1 Axes>"
            ],
            "image/png": "[encoded data removed]"
          },
          "metadata": {
            "needs_background": "light"
          }
        },
        {
          "output_type": "display_data",
          "data": {
            "text/plain": [
              "<Figure size 720x360 with 1 Axes>"
            ],
            "image/png": "[encoded data removed]"
          },
          "metadata": {
            "needs_background": "light"
          }
        }
      ]
    },
    {
      "cell_type": "markdown",
      "source": [
        "Conclusion :\n",
        "\n",
        "- Based on Employment type, the largest salary is for jobs are Full Time followed by contract, part-time and lastly freelance.<br>\n",
        "- Based on experience level Mid level/intermediate and executive have large salary on an average than entry level and senior level.\n",
        "- Based on company size the large companies are with largest avg salary followed by small size and then medium."
      ],
      "metadata": {
        "id": "mZEWUzvRKVt1"
      },
      "id": "mZEWUzvRKVt1"
    },
    {
      "cell_type": "code",
      "source": [
        "df1_employment_type  = data[[\"employment_type\",\"salary\"]]\n",
        "df1_experience_level  = data[[\"experience_level\",\"salary\"]]\n",
        "df1_company_size  = data[[\"company_size\",\"salary\"]]"
      ],
      "metadata": {
        "id": "A9t0onPFoDRY"
      },
      "id": "A9t0onPFoDRY",
      "execution_count": null,
      "outputs": []
    },
    {
      "cell_type": "code",
      "source": [
        "df1_employment_type = round(df1_employment_type.groupby('employment_type').mean(),2).reset_index()\n",
        "df1_experience_level = round(df1_experience_level.groupby('experience_level').mean(),2).reset_index()\n",
        "df1_company_size = round(df1_company_size.groupby('company_size').mean(),2).reset_index()"
      ],
      "metadata": {
        "id": "-kaJ6as6-B8Q"
      },
      "id": "-kaJ6as6-B8Q",
      "execution_count": null,
      "outputs": []
    },
    {
      "cell_type": "markdown",
      "source": [
        "# 2. Show the top 10 companies that have more jobs."
      ],
      "metadata": {
        "id": "7P1Qh45YuFi-"
      },
      "id": "7P1Qh45YuFi-"
    },
    {
      "cell_type": "code",
      "source": [
        "df2 = data.groupby('company_location').count().reset_index()"
      ],
      "metadata": {
        "id": "crTeWCryqsiJ"
      },
      "id": "crTeWCryqsiJ",
      "execution_count": null,
      "outputs": []
    },
    {
      "cell_type": "code",
      "source": [
        "df2 = df2[[\"company_location\",\"job_title\"]]"
      ],
      "metadata": {
        "id": "WkUl0UQ9AaGv"
      },
      "id": "WkUl0UQ9AaGv",
      "execution_count": null,
      "outputs": []
    },
    {
      "cell_type": "code",
      "source": [
        "df2 = df2.sort_values(by=\"job_title\", ascending=False).head(10)"
      ],
      "metadata": {
        "id": "Bd1-IZS6ECcb"
      },
      "id": "Bd1-IZS6ECcb",
      "execution_count": null,
      "outputs": []
    },
    {
      "cell_type": "markdown",
      "source": [
        "conclusion : top 10 locations are shown above us tops the list with huge margin."
      ],
      "metadata": {
        "id": "ivFy8Lq8E0uv"
      },
      "id": "ivFy8Lq8E0uv"
    },
    {
      "cell_type": "markdown",
      "source": [
        "# 3. Show the remote job ratio by job title. "
      ],
      "metadata": {
        "id": "Uk5h6dVsuKL3"
      },
      "id": "Uk5h6dVsuKL3"
    },
    {
      "cell_type": "code",
      "source": [
        "df3 = data [[\"remote_ratio\",\"job_title\"]]"
      ],
      "metadata": {
        "id": "nn83srtJqtHN"
      },
      "id": "nn83srtJqtHN",
      "execution_count": null,
      "outputs": []
    },
    {
      "cell_type": "code",
      "source": [
        "df3 = round(df3.groupby('job_title').mean(),2).reset_index()"
      ],
      "metadata": {
        "id": "B3GNNNOLBzNE"
      },
      "id": "B3GNNNOLBzNE",
      "execution_count": null,
      "outputs": []
    },
    {
      "cell_type": "code",
      "source": [
        "df3"
      ],
      "metadata": {
        "id": "AF-NrwA2CfXz"
      },
      "id": "AF-NrwA2CfXz",
      "execution_count": null,
      "outputs": []
    },
    {
      "cell_type": "markdown",
      "source": [
        "conclusion :  For every title of the top 10 most present titles, the majority of jobs are 100% Remote."
      ],
      "metadata": {
        "id": "7fJ0jCDcC0-9"
      },
      "id": "7fJ0jCDcC0-9"
    },
    {
      "cell_type": "markdown",
      "source": [
        "# 4. Remote job growth ratio by year (how remote jobs are rising)."
      ],
      "metadata": {
        "id": "XyQVtZGvuLdn"
      },
      "id": "XyQVtZGvuLdn"
    },
    {
      "cell_type": "code",
      "source": [
        "df4 = data [[\"remote_ratio\",\"work_year\"]]"
      ],
      "metadata": {
        "id": "Kcy5Zde2qtmY"
      },
      "id": "Kcy5Zde2qtmY",
      "execution_count": null,
      "outputs": []
    },
    {
      "cell_type": "code",
      "execution_count": null,
      "id": "504e0dca",
      "metadata": {
        "execution": {
          "iopub.execute_input": "2022-07-27T20:44:40.045523Z",
          "iopub.status.busy": "2022-07-27T20:44:40.045146Z",
          "iopub.status.idle": "2022-07-27T20:44:40.055814Z",
          "shell.execute_reply": "2022-07-27T20:44:40.054784Z"
        },
        "papermill": {
          "duration": 0.020414,
          "end_time": "2022-07-27T20:44:40.057890",
          "exception": false,
          "start_time": "2022-07-27T20:44:40.037476",
          "status": "completed"
        },
        "tags": [],
        "id": "504e0dca"
      },
      "outputs": [],
      "source": [
        "df4 = df4.groupby('work_year').mean().reset_index()"
      ]
    },
    {
      "cell_type": "code",
      "source": [
        "df4"
      ],
      "metadata": {
        "id": "8YadzzJACa-o",
        "colab": {
          "base_uri": "https://localhost:8080/",
          "height": 144
        },
        "outputId": "7c3a2392-2b70-4a0a-9a97-48b660c8b022"
      },
      "id": "8YadzzJACa-o",
      "execution_count": null,
      "outputs": [
        {
          "output_type": "execute_result",
          "data": {
            "text/plain": [
              "   work_year  remote_ratio\n",
              "0       2020     64.583333\n",
              "1       2021     69.124424\n",
              "2       2022     73.584906"
            ],
            "text/html": [
              "\n",
              "  <div id=\"df-043e6a23-e240-43ce-8d6c-cb2fd61fbe5b\">\n",
              "    <div class=\"colab-df-container\">\n",
              "      <div>\n",
              "<style scoped>\n",
              "    .dataframe tbody tr th:only-of-type {\n",
              "        vertical-align: middle;\n",
              "    }\n",
              "\n",
              "    .dataframe tbody tr th {\n",
              "        vertical-align: top;\n",
              "    }\n",
              "\n",
              "    .dataframe thead th {\n",
              "        text-align: right;\n",
              "    }\n",
              "</style>\n",
              "<table border=\"1\" class=\"dataframe\">\n",
              "  <thead>\n",
              "    <tr style=\"text-align: right;\">\n",
              "      <th></th>\n",
              "      <th>work_year</th>\n",
              "      <th>remote_ratio</th>\n",
              "    </tr>\n",
              "  </thead>\n",
              "  <tbody>\n",
              "    <tr>\n",
              "      <th>0</th>\n",
              "      <td>2020</td>\n",
              "      <td>64.583333</td>\n",
              "    </tr>\n",
              "    <tr>\n",
              "      <th>1</th>\n",
              "      <td>2021</td>\n",
              "      <td>69.124424</td>\n",
              "    </tr>\n",
              "    <tr>\n",
              "      <th>2</th>\n",
              "      <td>2022</td>\n",
              "      <td>73.584906</td>\n",
              "    </tr>\n",
              "  </tbody>\n",
              "</table>\n",
              "</div>\n",
              "      <button class=\"colab-df-convert\" onclick=\"convertToInteractive('df-043e6a23-e240-43ce-8d6c-cb2fd61fbe5b')\"\n",
              "              title=\"Convert this dataframe to an interactive table.\"\n",
              "              style=\"display:none;\">\n",
              "        \n",
              "  <svg xmlns=\"http://www.w3.org/2000/svg\" height=\"24px\"viewBox=\"0 0 24 24\"\n",
              "       width=\"24px\">\n",
              "    <path d=\"M0 0h24v24H0V0z\" fill=\"none\"/>\n",
              "    <path d=\"M18.56 5.44l.94 2.06.94-2.06 2.06-.94-2.06-.94-.94-2.06-.94 2.06-2.06.94zm-11 1L8.5 8.5l.94-2.06 2.06-.94-2.06-.94L8.5 2.5l-.94 2.06-2.06.94zm10 10l.94 2.06.94-2.06 2.06-.94-2.06-.94-.94-2.06-.94 2.06-2.06.94z\"/><path d=\"M17.41 7.96l-1.37-1.37c-.4-.4-.92-.59-1.43-.59-.52 0-1.04.2-1.43.59L10.3 9.45l-7.72 7.72c-.78.78-.78 2.05 0 2.83L4 21.41c.39.39.9.59 1.41.59.51 0 1.02-.2 1.41-.59l7.78-7.78 2.81-2.81c.8-.78.8-2.07 0-2.86zM5.41 20L4 18.59l7.72-7.72 1.47 1.35L5.41 20z\"/>\n",
              "  </svg>\n",
              "      </button>\n",
              "      \n",
              "  <style>\n",
              "    .colab-df-container {\n",
              "      display:flex;\n",
              "      flex-wrap:wrap;\n",
              "      gap: 12px;\n",
              "    }\n",
              "\n",
              "    .colab-df-convert {\n",
              "      background-color: #E8F0FE;\n",
              "      border: none;\n",
              "      border-radius: 50%;\n",
              "      cursor: pointer;\n",
              "      display: none;\n",
              "      fill: #1967D2;\n",
              "      height: 32px;\n",
              "      padding: 0 0 0 0;\n",
              "      width: 32px;\n",
              "    }\n",
              "\n",
              "    .colab-df-convert:hover {\n",
              "      background-color: #E2EBFA;\n",
              "      box-shadow: 0px 1px 2px rgba(60, 64, 67, 0.3), 0px 1px 3px 1px rgba(60, 64, 67, 0.15);\n",
              "      fill: #174EA6;\n",
              "    }\n",
              "\n",
              "    [theme=dark] .colab-df-convert {\n",
              "      background-color: #3B4455;\n",
              "      fill: #D2E3FC;\n",
              "    }\n",
              "\n",
              "    [theme=dark] .colab-df-convert:hover {\n",
              "      background-color: #434B5C;\n",
              "      box-shadow: 0px 1px 3px 1px rgba(0, 0, 0, 0.15);\n",
              "      filter: drop-shadow(0px 1px 2px rgba(0, 0, 0, 0.3));\n",
              "      fill: #FFFFFF;\n",
              "    }\n",
              "  </style>\n",
              "\n",
              "      <script>\n",
              "        const buttonEl =\n",
              "          document.querySelector('#df-043e6a23-e240-43ce-8d6c-cb2fd61fbe5b button.colab-df-convert');\n",
              "        buttonEl.style.display =\n",
              "          google.colab.kernel.accessAllowed ? 'block' : 'none';\n",
              "\n",
              "        async function convertToInteractive(key) {\n",
              "          const element = document.querySelector('#df-043e6a23-e240-43ce-8d6c-cb2fd61fbe5b');\n",
              "          const dataTable =\n",
              "            await google.colab.kernel.invokeFunction('convertToInteractive',\n",
              "                                                     [key], {});\n",
              "          if (!dataTable) return;\n",
              "\n",
              "          const docLinkHtml = 'Like what you see? Visit the ' +\n",
              "            '<a target=\"_blank\" href=https://colab.research.google.com/notebooks/data_table.ipynb>data table notebook</a>'\n",
              "            + ' to learn more about interactive tables.';\n",
              "          element.innerHTML = '';\n",
              "          dataTable['output_type'] = 'display_data';\n",
              "          await google.colab.output.renderOutput(dataTable, element);\n",
              "          const docLink = document.createElement('div');\n",
              "          docLink.innerHTML = docLinkHtml;\n",
              "          element.appendChild(docLink);\n",
              "        }\n",
              "      </script>\n",
              "    </div>\n",
              "  </div>\n",
              "  "
            ]
          },
          "metadata": {},
          "execution_count": 55
        }
      ]
    },
    {
      "cell_type": "markdown",
      "source": [
        "conclusion : graph shows steady growth in remote jobs from 2020 t0 2022"
      ],
      "metadata": {
        "id": "v1BZkGCsFFRS"
      },
      "id": "v1BZkGCsFFRS"
    },
    {
      "cell_type": "markdown",
      "id": "c59e1bfd",
      "metadata": {
        "execution": {
          "iopub.execute_input": "2022-07-26T21:02:42.210625Z",
          "iopub.status.busy": "2022-07-26T21:02:42.210209Z",
          "iopub.status.idle": "2022-07-26T21:02:42.218301Z",
          "shell.execute_reply": "2022-07-26T21:02:42.216637Z",
          "shell.execute_reply.started": "2022-07-26T21:02:42.210594Z"
        },
        "papermill": {
          "duration": 0.007233,
          "end_time": "2022-07-27T20:44:40.799162",
          "exception": false,
          "start_time": "2022-07-27T20:44:40.791929",
          "status": "completed"
        },
        "tags": [],
        "id": "c59e1bfd"
      },
      "source": [
        "From 2020 to 2022, the evolution of Fully Remote Jobs was impressive: in terms of both the number of jobs and the average salary!"
      ]
    },
    {
      "cell_type": "markdown",
      "source": [
        "# 5. Data Scientist jobs average salary in USD by geographic distribution (create the maps)."
      ],
      "metadata": {
        "id": "DYgpKbfsFoLN"
      },
      "id": "DYgpKbfsFoLN"
    },
    {
      "cell_type": "code",
      "source": [
        "df5 = data[data[\"job_title\"]==\"Data Scientist\"]"
      ],
      "metadata": {
        "id": "PgklmEYnGu3l"
      },
      "id": "PgklmEYnGu3l",
      "execution_count": null,
      "outputs": []
    },
    {
      "cell_type": "code",
      "source": [
        "df5 = df5 [[\"company_location\",\"salary_in_usd\"]]"
      ],
      "metadata": {
        "id": "H1pVxlt9FoLO"
      },
      "execution_count": null,
      "outputs": [],
      "id": "H1pVxlt9FoLO"
    },
    {
      "cell_type": "code",
      "execution_count": null,
      "metadata": {
        "execution": {
          "iopub.execute_input": "2022-07-27T20:44:40.045523Z",
          "iopub.status.busy": "2022-07-27T20:44:40.045146Z",
          "iopub.status.idle": "2022-07-27T20:44:40.055814Z",
          "shell.execute_reply": "2022-07-27T20:44:40.054784Z"
        },
        "papermill": {
          "duration": 0.020414,
          "end_time": "2022-07-27T20:44:40.057890",
          "exception": false,
          "start_time": "2022-07-27T20:44:40.037476",
          "status": "completed"
        },
        "tags": [],
        "id": "6ik8-36lFoLO"
      },
      "outputs": [],
      "source": [
        "df5 = round(df5.groupby('company_location').mean(),2).reset_index()"
      ],
      "id": "6ik8-36lFoLO"
    },
    {
      "cell_type": "code",
      "source": [
        "df5"
      ],
      "metadata": {
        "colab": {
          "base_uri": "https://localhost:8080/",
          "height": 803
        },
        "outputId": "67a9dda4-459a-44f1-df75-b349af8a6068",
        "id": "fG9ldK-sFoLO"
      },
      "execution_count": null,
      "outputs": [
        {
          "output_type": "execute_result",
          "data": {
            "text/plain": [
              "   company_location  salary_in_usd\n",
              "0                AT       76352.00\n",
              "1                AU       86703.00\n",
              "2                BR       12901.00\n",
              "3                CA       77787.00\n",
              "4                CH      122346.00\n",
              "5                CL       40038.00\n",
              "6                DE       69640.14\n",
              "7                DZ      100000.00\n",
              "8                ES       41136.67\n",
              "9                FR       50085.57\n",
              "10               GB       88177.36\n",
              "11               HU       35735.00\n",
              "12               IL      119059.00\n",
              "13               IN       26108.25\n",
              "14               IT       21669.00\n",
              "15               LU       62726.00\n",
              "16               MX        2859.00\n",
              "17               MY       40000.00\n",
              "18               NG       50000.00\n",
              "19               PL       35590.00\n",
              "20               TR       20171.00\n",
              "21               UA       13400.00\n",
              "22               US      143115.68\n",
              "23               VN        4000.00"
            ],
            "text/html": [
              "\n",
              "  <div id=\"df-bfda63d2-a8c4-470f-be4f-7c62dee32e62\">\n",
              "    <div class=\"colab-df-container\">\n",
              "      <div>\n",
              "<style scoped>\n",
              "    .dataframe tbody tr th:only-of-type {\n",
              "        vertical-align: middle;\n",
              "    }\n",
              "\n",
              "    .dataframe tbody tr th {\n",
              "        vertical-align: top;\n",
              "    }\n",
              "\n",
              "    .dataframe thead th {\n",
              "        text-align: right;\n",
              "    }\n",
              "</style>\n",
              "<table border=\"1\" class=\"dataframe\">\n",
              "  <thead>\n",
              "    <tr style=\"text-align: right;\">\n",
              "      <th></th>\n",
              "      <th>company_location</th>\n",
              "      <th>salary_in_usd</th>\n",
              "    </tr>\n",
              "  </thead>\n",
              "  <tbody>\n",
              "    <tr>\n",
              "      <th>0</th>\n",
              "      <td>AT</td>\n",
              "      <td>76352.00</td>\n",
              "    </tr>\n",
              "    <tr>\n",
              "      <th>1</th>\n",
              "      <td>AU</td>\n",
              "      <td>86703.00</td>\n",
              "    </tr>\n",
              "    <tr>\n",
              "      <th>2</th>\n",
              "      <td>BR</td>\n",
              "      <td>12901.00</td>\n",
              "    </tr>\n",
              "    <tr>\n",
              "      <th>3</th>\n",
              "      <td>CA</td>\n",
              "      <td>77787.00</td>\n",
              "    </tr>\n",
              "    <tr>\n",
              "      <th>4</th>\n",
              "      <td>CH</td>\n",
              "      <td>122346.00</td>\n",
              "    </tr>\n",
              "    <tr>\n",
              "      <th>5</th>\n",
              "      <td>CL</td>\n",
              "      <td>40038.00</td>\n",
              "    </tr>\n",
              "    <tr>\n",
              "      <th>6</th>\n",
              "      <td>DE</td>\n",
              "      <td>69640.14</td>\n",
              "    </tr>\n",
              "    <tr>\n",
              "      <th>7</th>\n",
              "      <td>DZ</td>\n",
              "      <td>100000.00</td>\n",
              "    </tr>\n",
              "    <tr>\n",
              "      <th>8</th>\n",
              "      <td>ES</td>\n",
              "      <td>41136.67</td>\n",
              "    </tr>\n",
              "    <tr>\n",
              "      <th>9</th>\n",
              "      <td>FR</td>\n",
              "      <td>50085.57</td>\n",
              "    </tr>\n",
              "    <tr>\n",
              "      <th>10</th>\n",
              "      <td>GB</td>\n",
              "      <td>88177.36</td>\n",
              "    </tr>\n",
              "    <tr>\n",
              "      <th>11</th>\n",
              "      <td>HU</td>\n",
              "      <td>35735.00</td>\n",
              "    </tr>\n",
              "    <tr>\n",
              "      <th>12</th>\n",
              "      <td>IL</td>\n",
              "      <td>119059.00</td>\n",
              "    </tr>\n",
              "    <tr>\n",
              "      <th>13</th>\n",
              "      <td>IN</td>\n",
              "      <td>26108.25</td>\n",
              "    </tr>\n",
              "    <tr>\n",
              "      <th>14</th>\n",
              "      <td>IT</td>\n",
              "      <td>21669.00</td>\n",
              "    </tr>\n",
              "    <tr>\n",
              "      <th>15</th>\n",
              "      <td>LU</td>\n",
              "      <td>62726.00</td>\n",
              "    </tr>\n",
              "    <tr>\n",
              "      <th>16</th>\n",
              "      <td>MX</td>\n",
              "      <td>2859.00</td>\n",
              "    </tr>\n",
              "    <tr>\n",
              "      <th>17</th>\n",
              "      <td>MY</td>\n",
              "      <td>40000.00</td>\n",
              "    </tr>\n",
              "    <tr>\n",
              "      <th>18</th>\n",
              "      <td>NG</td>\n",
              "      <td>50000.00</td>\n",
              "    </tr>\n",
              "    <tr>\n",
              "      <th>19</th>\n",
              "      <td>PL</td>\n",
              "      <td>35590.00</td>\n",
              "    </tr>\n",
              "    <tr>\n",
              "      <th>20</th>\n",
              "      <td>TR</td>\n",
              "      <td>20171.00</td>\n",
              "    </tr>\n",
              "    <tr>\n",
              "      <th>21</th>\n",
              "      <td>UA</td>\n",
              "      <td>13400.00</td>\n",
              "    </tr>\n",
              "    <tr>\n",
              "      <th>22</th>\n",
              "      <td>US</td>\n",
              "      <td>143115.68</td>\n",
              "    </tr>\n",
              "    <tr>\n",
              "      <th>23</th>\n",
              "      <td>VN</td>\n",
              "      <td>4000.00</td>\n",
              "    </tr>\n",
              "  </tbody>\n",
              "</table>\n",
              "</div>\n",
              "      <button class=\"colab-df-convert\" onclick=\"convertToInteractive('df-bfda63d2-a8c4-470f-be4f-7c62dee32e62')\"\n",
              "              title=\"Convert this dataframe to an interactive table.\"\n",
              "              style=\"display:none;\">\n",
              "        \n",
              "  <svg xmlns=\"http://www.w3.org/2000/svg\" height=\"24px\"viewBox=\"0 0 24 24\"\n",
              "       width=\"24px\">\n",
              "    <path d=\"M0 0h24v24H0V0z\" fill=\"none\"/>\n",
              "    <path d=\"M18.56 5.44l.94 2.06.94-2.06 2.06-.94-2.06-.94-.94-2.06-.94 2.06-2.06.94zm-11 1L8.5 8.5l.94-2.06 2.06-.94-2.06-.94L8.5 2.5l-.94 2.06-2.06.94zm10 10l.94 2.06.94-2.06 2.06-.94-2.06-.94-.94-2.06-.94 2.06-2.06.94z\"/><path d=\"M17.41 7.96l-1.37-1.37c-.4-.4-.92-.59-1.43-.59-.52 0-1.04.2-1.43.59L10.3 9.45l-7.72 7.72c-.78.78-.78 2.05 0 2.83L4 21.41c.39.39.9.59 1.41.59.51 0 1.02-.2 1.41-.59l7.78-7.78 2.81-2.81c.8-.78.8-2.07 0-2.86zM5.41 20L4 18.59l7.72-7.72 1.47 1.35L5.41 20z\"/>\n",
              "  </svg>\n",
              "      </button>\n",
              "      \n",
              "  <style>\n",
              "    .colab-df-container {\n",
              "      display:flex;\n",
              "      flex-wrap:wrap;\n",
              "      gap: 12px;\n",
              "    }\n",
              "\n",
              "    .colab-df-convert {\n",
              "      background-color: #E8F0FE;\n",
              "      border: none;\n",
              "      border-radius: 50%;\n",
              "      cursor: pointer;\n",
              "      display: none;\n",
              "      fill: #1967D2;\n",
              "      height: 32px;\n",
              "      padding: 0 0 0 0;\n",
              "      width: 32px;\n",
              "    }\n",
              "\n",
              "    .colab-df-convert:hover {\n",
              "      background-color: #E2EBFA;\n",
              "      box-shadow: 0px 1px 2px rgba(60, 64, 67, 0.3), 0px 1px 3px 1px rgba(60, 64, 67, 0.15);\n",
              "      fill: #174EA6;\n",
              "    }\n",
              "\n",
              "    [theme=dark] .colab-df-convert {\n",
              "      background-color: #3B4455;\n",
              "      fill: #D2E3FC;\n",
              "    }\n",
              "\n",
              "    [theme=dark] .colab-df-convert:hover {\n",
              "      background-color: #434B5C;\n",
              "      box-shadow: 0px 1px 3px 1px rgba(0, 0, 0, 0.15);\n",
              "      filter: drop-shadow(0px 1px 2px rgba(0, 0, 0, 0.3));\n",
              "      fill: #FFFFFF;\n",
              "    }\n",
              "  </style>\n",
              "\n",
              "      <script>\n",
              "        const buttonEl =\n",
              "          document.querySelector('#df-bfda63d2-a8c4-470f-be4f-7c62dee32e62 button.colab-df-convert');\n",
              "        buttonEl.style.display =\n",
              "          google.colab.kernel.accessAllowed ? 'block' : 'none';\n",
              "\n",
              "        async function convertToInteractive(key) {\n",
              "          const element = document.querySelector('#df-bfda63d2-a8c4-470f-be4f-7c62dee32e62');\n",
              "          const dataTable =\n",
              "            await google.colab.kernel.invokeFunction('convertToInteractive',\n",
              "                                                     [key], {});\n",
              "          if (!dataTable) return;\n",
              "\n",
              "          const docLinkHtml = 'Like what you see? Visit the ' +\n",
              "            '<a target=\"_blank\" href=https://colab.research.google.com/notebooks/data_table.ipynb>data table notebook</a>'\n",
              "            + ' to learn more about interactive tables.';\n",
              "          element.innerHTML = '';\n",
              "          dataTable['output_type'] = 'display_data';\n",
              "          await google.colab.output.renderOutput(dataTable, element);\n",
              "          const docLink = document.createElement('div');\n",
              "          docLink.innerHTML = docLinkHtml;\n",
              "          element.appendChild(docLink);\n",
              "        }\n",
              "      </script>\n",
              "    </div>\n",
              "  </div>\n",
              "  "
            ]
          },
          "metadata": {},
          "execution_count": 146
        }
      ],
      "id": "fG9ldK-sFoLO"
    },
    {
      "cell_type": "markdown",
      "source": [
        "conclusion : Data scientist is the most exciting job."
      ],
      "metadata": {
        "id": "uNUPxxCEFoLO"
      },
      "id": "uNUPxxCEFoLO"
    },
    {
      "cell_type": "markdown",
      "source": [
        "# 6. Which geography has more data science jobs than other roles?"
      ],
      "metadata": {
        "id": "EuN-91aUFoje"
      },
      "id": "EuN-91aUFoje"
    },
    {
      "cell_type": "code",
      "source": [
        "df6 = data [[\"company_location\",\"job_title\"]]"
      ],
      "metadata": {
        "id": "-dDkYKcSFoje"
      },
      "execution_count": null,
      "outputs": [],
      "id": "-dDkYKcSFoje"
    },
    {
      "cell_type": "code",
      "source": [
        "df6['Data_science_flag']= df6.apply(lambda x : 1 if x.job_title == \"Data Scientist\" else 0, axis=1)\n",
        " "
      ],
      "metadata": {
        "id": "F8QVGKFWHi05",
        "colab": {
          "base_uri": "https://localhost:8080/"
        },
        "outputId": "1ebc57df-147e-4e33-cbcc-45b10cb5337e"
      },
      "id": "F8QVGKFWHi05",
      "execution_count": null,
      "outputs": [
        {
          "output_type": "stream",
          "name": "stderr",
          "text": [
            "/usr/local/lib/python3.7/dist-packages/ipykernel_launcher.py:1: SettingWithCopyWarning: \n",
            "A value is trying to be set on a copy of a slice from a DataFrame.\n",
            "Try using .loc[row_indexer,col_indexer] = value instead\n",
            "\n",
            "See the caveats in the documentation: https://pandas.pydata.org/pandas-docs/stable/user_guide/indexing.html#returning-a-view-versus-a-copy\n",
            "  \"\"\"Entry point for launching an IPython kernel.\n"
          ]
        }
      ]
    },
    {
      "cell_type": "code",
      "execution_count": null,
      "metadata": {
        "execution": {
          "iopub.execute_input": "2022-07-27T20:44:40.045523Z",
          "iopub.status.busy": "2022-07-27T20:44:40.045146Z",
          "iopub.status.idle": "2022-07-27T20:44:40.055814Z",
          "shell.execute_reply": "2022-07-27T20:44:40.054784Z"
        },
        "papermill": {
          "duration": 0.020414,
          "end_time": "2022-07-27T20:44:40.057890",
          "exception": false,
          "start_time": "2022-07-27T20:44:40.037476",
          "status": "completed"
        },
        "tags": [],
        "colab": {
          "base_uri": "https://localhost:8080/",
          "height": 424
        },
        "id": "aa1p_1_lFoje",
        "outputId": "33cbf5cb-253a-4b2e-f631-43b0dff12add"
      },
      "outputs": [
        {
          "output_type": "execute_result",
          "data": {
            "text/plain": [
              "    company_location                   job_title  Data_science_flag\n",
              "0                 DE              Data Scientist                  1\n",
              "1                 JP  Machine Learning Scientist                  0\n",
              "2                 GB           Big Data Engineer                  0\n",
              "3                 HN        Product Data Analyst                  0\n",
              "4                 US   Machine Learning Engineer                  0\n",
              "..               ...                         ...                ...\n",
              "602               US               Data Engineer                  0\n",
              "603               US               Data Engineer                  0\n",
              "604               US                Data Analyst                  0\n",
              "605               US                Data Analyst                  0\n",
              "606               US                AI Scientist                  0\n",
              "\n",
              "[607 rows x 3 columns]"
            ],
            "text/html": [
              "\n",
              "  <div id=\"df-1e2484e9-9576-4861-ad31-895523f20f86\">\n",
              "    <div class=\"colab-df-container\">\n",
              "      <div>\n",
              "<style scoped>\n",
              "    .dataframe tbody tr th:only-of-type {\n",
              "        vertical-align: middle;\n",
              "    }\n",
              "\n",
              "    .dataframe tbody tr th {\n",
              "        vertical-align: top;\n",
              "    }\n",
              "\n",
              "    .dataframe thead th {\n",
              "        text-align: right;\n",
              "    }\n",
              "</style>\n",
              "<table border=\"1\" class=\"dataframe\">\n",
              "  <thead>\n",
              "    <tr style=\"text-align: right;\">\n",
              "      <th></th>\n",
              "      <th>company_location</th>\n",
              "      <th>job_title</th>\n",
              "      <th>Data_science_flag</th>\n",
              "    </tr>\n",
              "  </thead>\n",
              "  <tbody>\n",
              "    <tr>\n",
              "      <th>0</th>\n",
              "      <td>DE</td>\n",
              "      <td>Data Scientist</td>\n",
              "      <td>1</td>\n",
              "    </tr>\n",
              "    <tr>\n",
              "      <th>1</th>\n",
              "      <td>JP</td>\n",
              "      <td>Machine Learning Scientist</td>\n",
              "      <td>0</td>\n",
              "    </tr>\n",
              "    <tr>\n",
              "      <th>2</th>\n",
              "      <td>GB</td>\n",
              "      <td>Big Data Engineer</td>\n",
              "      <td>0</td>\n",
              "    </tr>\n",
              "    <tr>\n",
              "      <th>3</th>\n",
              "      <td>HN</td>\n",
              "      <td>Product Data Analyst</td>\n",
              "      <td>0</td>\n",
              "    </tr>\n",
              "    <tr>\n",
              "      <th>4</th>\n",
              "      <td>US</td>\n",
              "      <td>Machine Learning Engineer</td>\n",
              "      <td>0</td>\n",
              "    </tr>\n",
              "    <tr>\n",
              "      <th>...</th>\n",
              "      <td>...</td>\n",
              "      <td>...</td>\n",
              "      <td>...</td>\n",
              "    </tr>\n",
              "    <tr>\n",
              "      <th>602</th>\n",
              "      <td>US</td>\n",
              "      <td>Data Engineer</td>\n",
              "      <td>0</td>\n",
              "    </tr>\n",
              "    <tr>\n",
              "      <th>603</th>\n",
              "      <td>US</td>\n",
              "      <td>Data Engineer</td>\n",
              "      <td>0</td>\n",
              "    </tr>\n",
              "    <tr>\n",
              "      <th>604</th>\n",
              "      <td>US</td>\n",
              "      <td>Data Analyst</td>\n",
              "      <td>0</td>\n",
              "    </tr>\n",
              "    <tr>\n",
              "      <th>605</th>\n",
              "      <td>US</td>\n",
              "      <td>Data Analyst</td>\n",
              "      <td>0</td>\n",
              "    </tr>\n",
              "    <tr>\n",
              "      <th>606</th>\n",
              "      <td>US</td>\n",
              "      <td>AI Scientist</td>\n",
              "      <td>0</td>\n",
              "    </tr>\n",
              "  </tbody>\n",
              "</table>\n",
              "<p>607 rows × 3 columns</p>\n",
              "</div>\n",
              "      <button class=\"colab-df-convert\" onclick=\"convertToInteractive('df-1e2484e9-9576-4861-ad31-895523f20f86')\"\n",
              "              title=\"Convert this dataframe to an interactive table.\"\n",
              "              style=\"display:none;\">\n",
              "        \n",
              "  <svg xmlns=\"http://www.w3.org/2000/svg\" height=\"24px\"viewBox=\"0 0 24 24\"\n",
              "       width=\"24px\">\n",
              "    <path d=\"M0 0h24v24H0V0z\" fill=\"none\"/>\n",
              "    <path d=\"M18.56 5.44l.94 2.06.94-2.06 2.06-.94-2.06-.94-.94-2.06-.94 2.06-2.06.94zm-11 1L8.5 8.5l.94-2.06 2.06-.94-2.06-.94L8.5 2.5l-.94 2.06-2.06.94zm10 10l.94 2.06.94-2.06 2.06-.94-2.06-.94-.94-2.06-.94 2.06-2.06.94z\"/><path d=\"M17.41 7.96l-1.37-1.37c-.4-.4-.92-.59-1.43-.59-.52 0-1.04.2-1.43.59L10.3 9.45l-7.72 7.72c-.78.78-.78 2.05 0 2.83L4 21.41c.39.39.9.59 1.41.59.51 0 1.02-.2 1.41-.59l7.78-7.78 2.81-2.81c.8-.78.8-2.07 0-2.86zM5.41 20L4 18.59l7.72-7.72 1.47 1.35L5.41 20z\"/>\n",
              "  </svg>\n",
              "      </button>\n",
              "      \n",
              "  <style>\n",
              "    .colab-df-container {\n",
              "      display:flex;\n",
              "      flex-wrap:wrap;\n",
              "      gap: 12px;\n",
              "    }\n",
              "\n",
              "    .colab-df-convert {\n",
              "      background-color: #E8F0FE;\n",
              "      border: none;\n",
              "      border-radius: 50%;\n",
              "      cursor: pointer;\n",
              "      display: none;\n",
              "      fill: #1967D2;\n",
              "      height: 32px;\n",
              "      padding: 0 0 0 0;\n",
              "      width: 32px;\n",
              "    }\n",
              "\n",
              "    .colab-df-convert:hover {\n",
              "      background-color: #E2EBFA;\n",
              "      box-shadow: 0px 1px 2px rgba(60, 64, 67, 0.3), 0px 1px 3px 1px rgba(60, 64, 67, 0.15);\n",
              "      fill: #174EA6;\n",
              "    }\n",
              "\n",
              "    [theme=dark] .colab-df-convert {\n",
              "      background-color: #3B4455;\n",
              "      fill: #D2E3FC;\n",
              "    }\n",
              "\n",
              "    [theme=dark] .colab-df-convert:hover {\n",
              "      background-color: #434B5C;\n",
              "      box-shadow: 0px 1px 3px 1px rgba(0, 0, 0, 0.15);\n",
              "      filter: drop-shadow(0px 1px 2px rgba(0, 0, 0, 0.3));\n",
              "      fill: #FFFFFF;\n",
              "    }\n",
              "  </style>\n",
              "\n",
              "      <script>\n",
              "        const buttonEl =\n",
              "          document.querySelector('#df-1e2484e9-9576-4861-ad31-895523f20f86 button.colab-df-convert');\n",
              "        buttonEl.style.display =\n",
              "          google.colab.kernel.accessAllowed ? 'block' : 'none';\n",
              "\n",
              "        async function convertToInteractive(key) {\n",
              "          const element = document.querySelector('#df-1e2484e9-9576-4861-ad31-895523f20f86');\n",
              "          const dataTable =\n",
              "            await google.colab.kernel.invokeFunction('convertToInteractive',\n",
              "                                                     [key], {});\n",
              "          if (!dataTable) return;\n",
              "\n",
              "          const docLinkHtml = 'Like what you see? Visit the ' +\n",
              "            '<a target=\"_blank\" href=https://colab.research.google.com/notebooks/data_table.ipynb>data table notebook</a>'\n",
              "            + ' to learn more about interactive tables.';\n",
              "          element.innerHTML = '';\n",
              "          dataTable['output_type'] = 'display_data';\n",
              "          await google.colab.output.renderOutput(dataTable, element);\n",
              "          const docLink = document.createElement('div');\n",
              "          docLink.innerHTML = docLinkHtml;\n",
              "          element.appendChild(docLink);\n",
              "        }\n",
              "      </script>\n",
              "    </div>\n",
              "  </div>\n",
              "  "
            ]
          },
          "metadata": {},
          "execution_count": 62
        }
      ],
      "source": [
        "df6 "
      ],
      "id": "aa1p_1_lFoje"
    },
    {
      "cell_type": "code",
      "source": [
        "# pivot table\n",
        "df6_pivot = df6.pivot_table(columns = ['Data_science_flag'], index = 'company_location', values = 'Data_science_flag', aggfunc='count').reset_index()"
      ],
      "metadata": {
        "id": "8vjr8KMvJlAU"
      },
      "id": "8vjr8KMvJlAU",
      "execution_count": null,
      "outputs": []
    },
    {
      "cell_type": "code",
      "source": [
        "df6_pivot = df6_pivot.fillna('0')"
      ],
      "metadata": {
        "id": "aFOgLP9TJ2Xg"
      },
      "id": "aFOgLP9TJ2Xg",
      "execution_count": null,
      "outputs": []
    },
    {
      "cell_type": "code",
      "source": [
        "df6_pivot[0] = df6_pivot[0].astype(int) \n",
        "df6_pivot[1] = df6_pivot[1].astype(int) "
      ],
      "metadata": {
        "id": "1JNtFejdKyNu"
      },
      "id": "1JNtFejdKyNu",
      "execution_count": null,
      "outputs": []
    },
    {
      "cell_type": "code",
      "source": [
        "df6_location = df6_pivot[df6_pivot[0] < df6_pivot[1]]"
      ],
      "metadata": {
        "id": "JckPqAuHLpuC"
      },
      "id": "JckPqAuHLpuC",
      "execution_count": null,
      "outputs": []
    },
    {
      "cell_type": "code",
      "source": [
        "df6_final = df6_location[['company_location']]"
      ],
      "metadata": {
        "id": "t6TO6lNJMDe-"
      },
      "id": "t6TO6lNJMDe-",
      "execution_count": null,
      "outputs": []
    },
    {
      "cell_type": "code",
      "source": [
        "df6_final"
      ],
      "metadata": {
        "colab": {
          "base_uri": "https://localhost:8080/",
          "height": 270
        },
        "id": "XD1hXPTlMX2I",
        "outputId": "182c44df-5343-4327-954e-127f202ae764"
      },
      "id": "XD1hXPTlMX2I",
      "execution_count": null,
      "outputs": [
        {
          "output_type": "execute_result",
          "data": {
            "text/plain": [
              "Data_science_flag company_location\n",
              "8                               CL\n",
              "14                              DZ\n",
              "22                              HU\n",
              "24                              IL\n",
              "35                              MY\n",
              "47                              UA\n",
              "49                              VN"
            ],
            "text/html": [
              "\n",
              "  <div id=\"df-c6823d8f-f82a-42ec-b3da-050efc78b181\">\n",
              "    <div class=\"colab-df-container\">\n",
              "      <div>\n",
              "<style scoped>\n",
              "    .dataframe tbody tr th:only-of-type {\n",
              "        vertical-align: middle;\n",
              "    }\n",
              "\n",
              "    .dataframe tbody tr th {\n",
              "        vertical-align: top;\n",
              "    }\n",
              "\n",
              "    .dataframe thead th {\n",
              "        text-align: right;\n",
              "    }\n",
              "</style>\n",
              "<table border=\"1\" class=\"dataframe\">\n",
              "  <thead>\n",
              "    <tr style=\"text-align: right;\">\n",
              "      <th>Data_science_flag</th>\n",
              "      <th>company_location</th>\n",
              "    </tr>\n",
              "  </thead>\n",
              "  <tbody>\n",
              "    <tr>\n",
              "      <th>8</th>\n",
              "      <td>CL</td>\n",
              "    </tr>\n",
              "    <tr>\n",
              "      <th>14</th>\n",
              "      <td>DZ</td>\n",
              "    </tr>\n",
              "    <tr>\n",
              "      <th>22</th>\n",
              "      <td>HU</td>\n",
              "    </tr>\n",
              "    <tr>\n",
              "      <th>24</th>\n",
              "      <td>IL</td>\n",
              "    </tr>\n",
              "    <tr>\n",
              "      <th>35</th>\n",
              "      <td>MY</td>\n",
              "    </tr>\n",
              "    <tr>\n",
              "      <th>47</th>\n",
              "      <td>UA</td>\n",
              "    </tr>\n",
              "    <tr>\n",
              "      <th>49</th>\n",
              "      <td>VN</td>\n",
              "    </tr>\n",
              "  </tbody>\n",
              "</table>\n",
              "</div>\n",
              "      <button class=\"colab-df-convert\" onclick=\"convertToInteractive('df-c6823d8f-f82a-42ec-b3da-050efc78b181')\"\n",
              "              title=\"Convert this dataframe to an interactive table.\"\n",
              "              style=\"display:none;\">\n",
              "        \n",
              "  <svg xmlns=\"http://www.w3.org/2000/svg\" height=\"24px\"viewBox=\"0 0 24 24\"\n",
              "       width=\"24px\">\n",
              "    <path d=\"M0 0h24v24H0V0z\" fill=\"none\"/>\n",
              "    <path d=\"M18.56 5.44l.94 2.06.94-2.06 2.06-.94-2.06-.94-.94-2.06-.94 2.06-2.06.94zm-11 1L8.5 8.5l.94-2.06 2.06-.94-2.06-.94L8.5 2.5l-.94 2.06-2.06.94zm10 10l.94 2.06.94-2.06 2.06-.94-2.06-.94-.94-2.06-.94 2.06-2.06.94z\"/><path d=\"M17.41 7.96l-1.37-1.37c-.4-.4-.92-.59-1.43-.59-.52 0-1.04.2-1.43.59L10.3 9.45l-7.72 7.72c-.78.78-.78 2.05 0 2.83L4 21.41c.39.39.9.59 1.41.59.51 0 1.02-.2 1.41-.59l7.78-7.78 2.81-2.81c.8-.78.8-2.07 0-2.86zM5.41 20L4 18.59l7.72-7.72 1.47 1.35L5.41 20z\"/>\n",
              "  </svg>\n",
              "      </button>\n",
              "      \n",
              "  <style>\n",
              "    .colab-df-container {\n",
              "      display:flex;\n",
              "      flex-wrap:wrap;\n",
              "      gap: 12px;\n",
              "    }\n",
              "\n",
              "    .colab-df-convert {\n",
              "      background-color: #E8F0FE;\n",
              "      border: none;\n",
              "      border-radius: 50%;\n",
              "      cursor: pointer;\n",
              "      display: none;\n",
              "      fill: #1967D2;\n",
              "      height: 32px;\n",
              "      padding: 0 0 0 0;\n",
              "      width: 32px;\n",
              "    }\n",
              "\n",
              "    .colab-df-convert:hover {\n",
              "      background-color: #E2EBFA;\n",
              "      box-shadow: 0px 1px 2px rgba(60, 64, 67, 0.3), 0px 1px 3px 1px rgba(60, 64, 67, 0.15);\n",
              "      fill: #174EA6;\n",
              "    }\n",
              "\n",
              "    [theme=dark] .colab-df-convert {\n",
              "      background-color: #3B4455;\n",
              "      fill: #D2E3FC;\n",
              "    }\n",
              "\n",
              "    [theme=dark] .colab-df-convert:hover {\n",
              "      background-color: #434B5C;\n",
              "      box-shadow: 0px 1px 3px 1px rgba(0, 0, 0, 0.15);\n",
              "      filter: drop-shadow(0px 1px 2px rgba(0, 0, 0, 0.3));\n",
              "      fill: #FFFFFF;\n",
              "    }\n",
              "  </style>\n",
              "\n",
              "      <script>\n",
              "        const buttonEl =\n",
              "          document.querySelector('#df-c6823d8f-f82a-42ec-b3da-050efc78b181 button.colab-df-convert');\n",
              "        buttonEl.style.display =\n",
              "          google.colab.kernel.accessAllowed ? 'block' : 'none';\n",
              "\n",
              "        async function convertToInteractive(key) {\n",
              "          const element = document.querySelector('#df-c6823d8f-f82a-42ec-b3da-050efc78b181');\n",
              "          const dataTable =\n",
              "            await google.colab.kernel.invokeFunction('convertToInteractive',\n",
              "                                                     [key], {});\n",
              "          if (!dataTable) return;\n",
              "\n",
              "          const docLinkHtml = 'Like what you see? Visit the ' +\n",
              "            '<a target=\"_blank\" href=https://colab.research.google.com/notebooks/data_table.ipynb>data table notebook</a>'\n",
              "            + ' to learn more about interactive tables.';\n",
              "          element.innerHTML = '';\n",
              "          dataTable['output_type'] = 'display_data';\n",
              "          await google.colab.output.renderOutput(dataTable, element);\n",
              "          const docLink = document.createElement('div');\n",
              "          docLink.innerHTML = docLinkHtml;\n",
              "          element.appendChild(docLink);\n",
              "        }\n",
              "      </script>\n",
              "    </div>\n",
              "  </div>\n",
              "  "
            ]
          },
          "metadata": {},
          "execution_count": 68
        }
      ]
    },
    {
      "cell_type": "markdown",
      "source": [
        "conclusion : 7 locations have more datascience jobs than 24 total location. "
      ],
      "metadata": {
        "id": "gbJEFBiFFojf"
      },
      "id": "gbJEFBiFFojf"
    },
    {
      "cell_type": "markdown",
      "source": [
        "# **Datawrapper connection**"
      ],
      "metadata": {
        "id": "rkAujLGRfHxz"
      },
      "id": "rkAujLGRfHxz"
    },
    {
      "cell_type": "markdown",
      "source": [
        "**Question 1**"
      ],
      "metadata": {
        "id": "qSfhztK_jSmx"
      },
      "id": "qSfhztK_jSmx"
    },
    {
      "cell_type": "code",
      "source": [
        "dw = Datawrapper(\"6ZH6zytoEv0CSgzNb2vhd4o6MDyJNRuZoFTomnWMLw97kI8LJpv6XpNhf0OkuQY0\")\n",
        "dw.account_info()"
      ],
      "metadata": {
        "id": "eMgqgsbQfDzx",
        "colab": {
          "base_uri": "https://localhost:8080/"
        },
        "outputId": "4d795fda-b611-4ebc-aebe-dd5c1244b99b"
      },
      "id": "eMgqgsbQfDzx",
      "execution_count": null,
      "outputs": [
        {
          "output_type": "execute_result",
          "data": {
            "text/plain": [
              "{'chartCount': 15,\n",
              " 'email': 'damle.g@northeastern.edu',\n",
              " 'id': 476074,\n",
              " 'language': 'en-US',\n",
              " 'name': None,\n",
              " 'role': 'editor',\n",
              " 'teams': [],\n",
              " 'url': '/v3/users/476074'}"
            ]
          },
          "metadata": {},
          "execution_count": 103
        }
      ]
    },
    {
      "cell_type": "code",
      "source": [
        "df1_employment_type = dw.create_chart(title = \"Salary based on Employment type\", chart_type = 'd3-bars-stacked', data = df1_employment_type)"
      ],
      "metadata": {
        "id": "1sw3y_6JfQS0",
        "colab": {
          "base_uri": "https://localhost:8080/"
        },
        "outputId": "963bfd37-7c4b-4149-e52b-145197194619"
      },
      "id": "1sw3y_6JfQS0",
      "execution_count": null,
      "outputs": [
        {
          "output_type": "stream",
          "name": "stdout",
          "text": [
            "New chart d3-bars-stacked created!\n"
          ]
        }
      ]
    },
    {
      "cell_type": "code",
      "source": [
        "dw.publish_chart(chart_id = df1_employment_type['id'])"
      ],
      "metadata": {
        "id": "3dlDqDSDfVVe"
      },
      "id": "3dlDqDSDfVVe",
      "execution_count": null,
      "outputs": []
    },
    {
      "cell_type": "code",
      "source": [
        "df1_experience_level = dw.create_chart(title = \"Salary based on experience level\", chart_type = 'd3-bars-stacked', data = df1_experience_level)"
      ],
      "metadata": {
        "id": "DMXdI6QTwGhk"
      },
      "id": "DMXdI6QTwGhk",
      "execution_count": null,
      "outputs": []
    },
    {
      "cell_type": "code",
      "source": [
        "dw.publish_chart(chart_id = df1_experience_level['id'])"
      ],
      "metadata": {
        "id": "Dtox3AEqwhMd"
      },
      "id": "Dtox3AEqwhMd",
      "execution_count": null,
      "outputs": []
    },
    {
      "cell_type": "code",
      "source": [
        "df1_company_size = dw.create_chart(title = \"Salary based on company size\", chart_type = 'd3-bars-stacked', data = df1_company_size)"
      ],
      "metadata": {
        "id": "LQmSCY9jwlBq",
        "colab": {
          "base_uri": "https://localhost:8080/"
        },
        "outputId": "aef573f0-4026-4892-e5ae-77f6fb433e0d"
      },
      "id": "LQmSCY9jwlBq",
      "execution_count": null,
      "outputs": [
        {
          "output_type": "stream",
          "name": "stdout",
          "text": [
            "New chart d3-bars-stacked created!\n"
          ]
        }
      ]
    },
    {
      "cell_type": "code",
      "source": [
        "dw.publish_chart(chart_id = df1_company_size['id'])"
      ],
      "metadata": {
        "id": "5uLdLmoLwlnS"
      },
      "id": "5uLdLmoLwlnS",
      "execution_count": null,
      "outputs": []
    },
    {
      "cell_type": "markdown",
      "source": [
        "**Question 2**\n",
        "\n",
        "\n",
        "\n"
      ],
      "metadata": {
        "id": "XwG0SuqzjV69"
      },
      "id": "XwG0SuqzjV69"
    },
    {
      "cell_type": "code",
      "source": [
        "df2"
      ],
      "metadata": {
        "colab": {
          "base_uri": "https://localhost:8080/",
          "height": 364
        },
        "id": "xpgkicWmjarR",
        "outputId": "64db6def-3bbb-41cc-be43-b7a3af23696d"
      },
      "id": "xpgkicWmjarR",
      "execution_count": null,
      "outputs": [
        {
          "output_type": "execute_result",
          "data": {
            "text/plain": [
              "   company_location  job_title\n",
              "48               US        355\n",
              "18               GB         47\n",
              "6                CA         30\n",
              "12               DE         28\n",
              "25               IN         24\n",
              "17               FR         15\n",
              "16               ES         14\n",
              "19               GR         11\n",
              "29               JP          6\n",
              "40               PL          4"
            ],
            "text/html": [
              "\n",
              "  <div id=\"df-5fbd917e-a2ce-4bc9-9449-a77bef82538a\">\n",
              "    <div class=\"colab-df-container\">\n",
              "      <div>\n",
              "<style scoped>\n",
              "    .dataframe tbody tr th:only-of-type {\n",
              "        vertical-align: middle;\n",
              "    }\n",
              "\n",
              "    .dataframe tbody tr th {\n",
              "        vertical-align: top;\n",
              "    }\n",
              "\n",
              "    .dataframe thead th {\n",
              "        text-align: right;\n",
              "    }\n",
              "</style>\n",
              "<table border=\"1\" class=\"dataframe\">\n",
              "  <thead>\n",
              "    <tr style=\"text-align: right;\">\n",
              "      <th></th>\n",
              "      <th>company_location</th>\n",
              "      <th>job_title</th>\n",
              "    </tr>\n",
              "  </thead>\n",
              "  <tbody>\n",
              "    <tr>\n",
              "      <th>48</th>\n",
              "      <td>US</td>\n",
              "      <td>355</td>\n",
              "    </tr>\n",
              "    <tr>\n",
              "      <th>18</th>\n",
              "      <td>GB</td>\n",
              "      <td>47</td>\n",
              "    </tr>\n",
              "    <tr>\n",
              "      <th>6</th>\n",
              "      <td>CA</td>\n",
              "      <td>30</td>\n",
              "    </tr>\n",
              "    <tr>\n",
              "      <th>12</th>\n",
              "      <td>DE</td>\n",
              "      <td>28</td>\n",
              "    </tr>\n",
              "    <tr>\n",
              "      <th>25</th>\n",
              "      <td>IN</td>\n",
              "      <td>24</td>\n",
              "    </tr>\n",
              "    <tr>\n",
              "      <th>17</th>\n",
              "      <td>FR</td>\n",
              "      <td>15</td>\n",
              "    </tr>\n",
              "    <tr>\n",
              "      <th>16</th>\n",
              "      <td>ES</td>\n",
              "      <td>14</td>\n",
              "    </tr>\n",
              "    <tr>\n",
              "      <th>19</th>\n",
              "      <td>GR</td>\n",
              "      <td>11</td>\n",
              "    </tr>\n",
              "    <tr>\n",
              "      <th>29</th>\n",
              "      <td>JP</td>\n",
              "      <td>6</td>\n",
              "    </tr>\n",
              "    <tr>\n",
              "      <th>40</th>\n",
              "      <td>PL</td>\n",
              "      <td>4</td>\n",
              "    </tr>\n",
              "  </tbody>\n",
              "</table>\n",
              "</div>\n",
              "      <button class=\"colab-df-convert\" onclick=\"convertToInteractive('df-5fbd917e-a2ce-4bc9-9449-a77bef82538a')\"\n",
              "              title=\"Convert this dataframe to an interactive table.\"\n",
              "              style=\"display:none;\">\n",
              "        \n",
              "  <svg xmlns=\"http://www.w3.org/2000/svg\" height=\"24px\"viewBox=\"0 0 24 24\"\n",
              "       width=\"24px\">\n",
              "    <path d=\"M0 0h24v24H0V0z\" fill=\"none\"/>\n",
              "    <path d=\"M18.56 5.44l.94 2.06.94-2.06 2.06-.94-2.06-.94-.94-2.06-.94 2.06-2.06.94zm-11 1L8.5 8.5l.94-2.06 2.06-.94-2.06-.94L8.5 2.5l-.94 2.06-2.06.94zm10 10l.94 2.06.94-2.06 2.06-.94-2.06-.94-.94-2.06-.94 2.06-2.06.94z\"/><path d=\"M17.41 7.96l-1.37-1.37c-.4-.4-.92-.59-1.43-.59-.52 0-1.04.2-1.43.59L10.3 9.45l-7.72 7.72c-.78.78-.78 2.05 0 2.83L4 21.41c.39.39.9.59 1.41.59.51 0 1.02-.2 1.41-.59l7.78-7.78 2.81-2.81c.8-.78.8-2.07 0-2.86zM5.41 20L4 18.59l7.72-7.72 1.47 1.35L5.41 20z\"/>\n",
              "  </svg>\n",
              "      </button>\n",
              "      \n",
              "  <style>\n",
              "    .colab-df-container {\n",
              "      display:flex;\n",
              "      flex-wrap:wrap;\n",
              "      gap: 12px;\n",
              "    }\n",
              "\n",
              "    .colab-df-convert {\n",
              "      background-color: #E8F0FE;\n",
              "      border: none;\n",
              "      border-radius: 50%;\n",
              "      cursor: pointer;\n",
              "      display: none;\n",
              "      fill: #1967D2;\n",
              "      height: 32px;\n",
              "      padding: 0 0 0 0;\n",
              "      width: 32px;\n",
              "    }\n",
              "\n",
              "    .colab-df-convert:hover {\n",
              "      background-color: #E2EBFA;\n",
              "      box-shadow: 0px 1px 2px rgba(60, 64, 67, 0.3), 0px 1px 3px 1px rgba(60, 64, 67, 0.15);\n",
              "      fill: #174EA6;\n",
              "    }\n",
              "\n",
              "    [theme=dark] .colab-df-convert {\n",
              "      background-color: #3B4455;\n",
              "      fill: #D2E3FC;\n",
              "    }\n",
              "\n",
              "    [theme=dark] .colab-df-convert:hover {\n",
              "      background-color: #434B5C;\n",
              "      box-shadow: 0px 1px 3px 1px rgba(0, 0, 0, 0.15);\n",
              "      filter: drop-shadow(0px 1px 2px rgba(0, 0, 0, 0.3));\n",
              "      fill: #FFFFFF;\n",
              "    }\n",
              "  </style>\n",
              "\n",
              "      <script>\n",
              "        const buttonEl =\n",
              "          document.querySelector('#df-5fbd917e-a2ce-4bc9-9449-a77bef82538a button.colab-df-convert');\n",
              "        buttonEl.style.display =\n",
              "          google.colab.kernel.accessAllowed ? 'block' : 'none';\n",
              "\n",
              "        async function convertToInteractive(key) {\n",
              "          const element = document.querySelector('#df-5fbd917e-a2ce-4bc9-9449-a77bef82538a');\n",
              "          const dataTable =\n",
              "            await google.colab.kernel.invokeFunction('convertToInteractive',\n",
              "                                                     [key], {});\n",
              "          if (!dataTable) return;\n",
              "\n",
              "          const docLinkHtml = 'Like what you see? Visit the ' +\n",
              "            '<a target=\"_blank\" href=https://colab.research.google.com/notebooks/data_table.ipynb>data table notebook</a>'\n",
              "            + ' to learn more about interactive tables.';\n",
              "          element.innerHTML = '';\n",
              "          dataTable['output_type'] = 'display_data';\n",
              "          await google.colab.output.renderOutput(dataTable, element);\n",
              "          const docLink = document.createElement('div');\n",
              "          docLink.innerHTML = docLinkHtml;\n",
              "          element.appendChild(docLink);\n",
              "        }\n",
              "      </script>\n",
              "    </div>\n",
              "  </div>\n",
              "  "
            ]
          },
          "metadata": {},
          "execution_count": 135
        }
      ]
    },
    {
      "cell_type": "code",
      "source": [
        "df2 = dw.create_chart(title = \"Top 10 locations as per Job opportunities\", chart_type = 'd3-bars-stacked', data = df2)"
      ],
      "metadata": {
        "id": "bz80vBKWxNAA",
        "colab": {
          "base_uri": "https://localhost:8080/"
        },
        "outputId": "e22738d3-e999-4aef-a946-07a44950753f"
      },
      "id": "bz80vBKWxNAA",
      "execution_count": null,
      "outputs": [
        {
          "output_type": "stream",
          "name": "stdout",
          "text": [
            "New chart d3-bars-stacked created!\n"
          ]
        }
      ]
    },
    {
      "cell_type": "code",
      "source": [
        "dw.publish_chart(chart_id = df2['id'])"
      ],
      "metadata": {
        "id": "XkyHpCc2xik7",
        "colab": {
          "base_uri": "https://localhost:8080/",
          "height": 422
        },
        "outputId": "2ed5ec30-122a-4e1b-d3bb-9c8064851c35"
      },
      "id": "XkyHpCc2xik7",
      "execution_count": null,
      "outputs": [
        {
          "output_type": "execute_result",
          "data": {
            "text/plain": [
              "<IPython.core.display.HTML object>"
            ],
            "text/html": [
              "<iframe title=\"Top 10 locations as per Job opportunities\" aria-label=\"Stacked Bars\" id=\"datawrapper-chart-KqScU\" src=\"https://datawrapper.dwcdn.net/KqScU/1/\" scrolling=\"no\" frameborder=\"0\" style=\"border: none;\" width=\"600\" height=\"400\"></iframe>"
            ]
          },
          "metadata": {},
          "execution_count": 137
        }
      ]
    },
    {
      "cell_type": "markdown",
      "source": [
        "**Question 3**"
      ],
      "metadata": {
        "id": "yE5U0rh9zZwR"
      },
      "id": "yE5U0rh9zZwR"
    },
    {
      "cell_type": "code",
      "source": [
        "df3 = dw.create_chart(title = \"Remote job ratio by job title\", chart_type = 'd3-bars-stacked', data = df3)"
      ],
      "metadata": {
        "colab": {
          "base_uri": "https://localhost:8080/"
        },
        "id": "7w28m-t_zaXV",
        "outputId": "16459401-6477-46ec-bfe4-717b8b8ccfa3"
      },
      "id": "7w28m-t_zaXV",
      "execution_count": null,
      "outputs": [
        {
          "output_type": "stream",
          "name": "stdout",
          "text": [
            "New chart d3-bars-stacked created!\n"
          ]
        }
      ]
    },
    {
      "cell_type": "code",
      "source": [
        "dw.publish_chart(chart_id = df3['id'])"
      ],
      "metadata": {
        "colab": {
          "base_uri": "https://localhost:8080/",
          "height": 422
        },
        "id": "yP2RMv2FzlX3",
        "outputId": "e810c763-6073-496e-a12c-2c714adf0686"
      },
      "id": "yP2RMv2FzlX3",
      "execution_count": null,
      "outputs": [
        {
          "output_type": "execute_result",
          "data": {
            "text/plain": [
              "<IPython.core.display.HTML object>"
            ],
            "text/html": [
              "<iframe title=\"Remote job ratio by job title\" aria-label=\"Stacked Bars\" id=\"datawrapper-chart-40qNj\" src=\"https://datawrapper.dwcdn.net/40qNj/1/\" scrolling=\"no\" frameborder=\"0\" style=\"border: none;\" width=\"600\" height=\"400\"></iframe>"
            ]
          },
          "metadata": {},
          "execution_count": 139
        }
      ]
    },
    {
      "cell_type": "markdown",
      "source": [
        "**Question 4**"
      ],
      "metadata": {
        "id": "OJZmNHu4zbDV"
      },
      "id": "OJZmNHu4zbDV"
    },
    {
      "cell_type": "code",
      "source": [
        "df4 = dw.create_chart(title = \"Remote job growth ratio by year\", chart_type = 'd3-bars-stacked', data = df4)"
      ],
      "metadata": {
        "colab": {
          "base_uri": "https://localhost:8080/"
        },
        "id": "s6kWqw0qz9Ay",
        "outputId": "345b1adc-49ec-48e6-925d-0946360d7b49"
      },
      "id": "s6kWqw0qz9Ay",
      "execution_count": null,
      "outputs": [
        {
          "output_type": "stream",
          "name": "stdout",
          "text": [
            "New chart d3-bars-stacked created!\n"
          ]
        }
      ]
    },
    {
      "cell_type": "code",
      "source": [
        "dw.publish_chart(chart_id = df4['id'])"
      ],
      "metadata": {
        "colab": {
          "base_uri": "https://localhost:8080/",
          "height": 422
        },
        "id": "injJzRYiz9c6",
        "outputId": "3e771be2-17a6-4faf-c75a-8849d4ca2810"
      },
      "id": "injJzRYiz9c6",
      "execution_count": null,
      "outputs": [
        {
          "output_type": "execute_result",
          "data": {
            "text/plain": [
              "<IPython.core.display.HTML object>"
            ],
            "text/html": [
              "<iframe title=\"Remote job growth ratio by year\" aria-label=\"Stacked Bars\" id=\"datawrapper-chart-M5MNt\" src=\"https://datawrapper.dwcdn.net/M5MNt/2/\" scrolling=\"no\" frameborder=\"0\" style=\"border: none;\" width=\"600\" height=\"400\"></iframe>"
            ]
          },
          "metadata": {},
          "execution_count": 142
        }
      ]
    },
    {
      "cell_type": "markdown",
      "source": [
        "**Question 5**"
      ],
      "metadata": {
        "id": "_cjJoEZr0Ptq"
      },
      "id": "_cjJoEZr0Ptq"
    },
    {
      "cell_type": "code",
      "source": [
        "## maping short forms of countries with full forms\n",
        "\n",
        "short2long = {\"AF\":\"Afghanistan\",\n",
        "\"AX\":\"Aland Islands\",\n",
        "\"AL\":\"Albania\",\n",
        "\"DZ\":\"Algeria\",\n",
        "\"AS\":\"American Samoa\",\n",
        "\"AD\":\"Andorra\",\n",
        "\"AO\":\"Angola\",\n",
        "\"AI\":\"Anguilla\",\n",
        "\"AQ\":\"Antarctica\",\n",
        "\"AG\":\"Antigua and Barbuda\",\n",
        "\"AR\":\"Argentina\",\n",
        "\"AM\":\"Armenia\",\n",
        "\"AW\":\"Aruba\",\n",
        "\"AU\":\"Australia\",\n",
        "\"AT\":\"Austria\",\n",
        "\"AZ\":\"Azerbaijan\",\n",
        "\"BS\":\"Bahamas\",\n",
        "\"BH\":\"Bahrain\",\n",
        "\"BD\":\"Bangladesh\",\n",
        "\"BB\":\"Barbados\",\n",
        "\"BY\":\"Belarus\",\n",
        "\"BE\":\"Belgium\",\n",
        "\"BZ\":\"Belize\",\n",
        "\"BJ\":\"Benin\",\n",
        "\"BM\":\"Bermuda\",\n",
        "\"BT\":\"Bhutan\",\n",
        "\"BO\":\"Bolivia, Plurinational State of\",\n",
        "\"BQ\":\"Bonaire, Sint Eustatius and Saba\",\n",
        "\"BA\":\"Bosnia and Herzegovina\",\n",
        "\"BW\":\"Botswana\",\n",
        "\"BV\":\"Bouvet Island\",\n",
        "\"BR\":\"Brazil\",\n",
        "\"IO\":\"British Indian Ocean Territory\",\n",
        "\"BN\":\"Brunei Darussalam\",\n",
        "\"BG\":\"Bulgaria\",\n",
        "\"BF\":\"Burkina Faso\",\n",
        "\"BI\":\"Burundi\",\n",
        "\"KH\":\"Cambodia\",\n",
        "\"CM\":\"Cameroon\",\n",
        "\"CA\":\"Canada\",\n",
        "\"CV\":\"Cape Verde\",\n",
        "\"KY\":\"Cayman Islands\",\n",
        "\"CF\":\"Central African Republic\",\n",
        "\"TD\":\"Chad\",\n",
        "\"CL\":\"Chile\",\n",
        "\"CN\":\"China\",\n",
        "\"CX\":\"Christmas Island\",\n",
        "\"CC\":\"Cocos (Keeling) Islands\",\n",
        "\"CO\":\"Colombia\",\n",
        "\"KM\":\"Comoros\",\n",
        "\"CG\":\"Congo\",\n",
        "\"CD\":\"Congo, The Democratic Republic of the\",\n",
        "\"CK\":\"Cook Islands\",\n",
        "\"CR\":\"Costa Rica\",\n",
        "\"CI\":\"Côte d'Ivoire\",\n",
        "\"HR\":\"Croatia\",\n",
        "\"CU\":\"Cuba\",\n",
        "\"CW\":\"Curaçao\",\n",
        "\"CY\":\"Cyprus\",\n",
        "\"CZ\":\"Czech Republic\",\n",
        "\"DK\":\"Denmark\",\n",
        "\"DJ\":\"Djibouti\",\n",
        "\"DM\":\"Dominica\",\n",
        "\"DO\":\"Dominican Republic\",\n",
        "\"EC\":\"Ecuador\",\n",
        "\"EG\":\"Egypt\",\n",
        "\"SV\":\"El Salvador\",\n",
        "\"GQ\":\"Equatorial Guinea\",\n",
        "\"ER\":\"Eritrea\",\n",
        "\"EE\":\"Estonia\",\n",
        "\"ET\":\"Ethiopia\",\n",
        "\"FK\":\"Falkland Islands (Malvinas)\",\n",
        "\"FO\":\"Faroe Islands\",\n",
        "\"FJ\":\"Fiji\",\n",
        "\"FI\":\"Finland\",\n",
        "\"FR\":\"France\",\n",
        "\"GF\":\"French Guiana\",\n",
        "\"PF\":\"French Polynesia\",\n",
        "\"TF\":\"French Southern Territories\",\n",
        "\"GA\":\"Gabon\",\n",
        "\"GM\":\"Gambia\",\n",
        "\"GE\":\"Georgia\",\n",
        "\"DE\":\"Germany\",\n",
        "\"GH\":\"Ghana\",\n",
        "\"GI\":\"Gibraltar\",\n",
        "\"GR\":\"Greece\",\n",
        "\"GL\":\"Greenland\",\n",
        "\"GD\":\"Grenada\",\n",
        "\"GP\":\"Guadeloupe\",\n",
        "\"GU\":\"Guam\",\n",
        "\"GT\":\"Guatemala\",\n",
        "\"GG\":\"Guernsey\",\n",
        "\"GN\":\"Guinea\",\n",
        "\"GW\":\"Guinea-Bissau\",\n",
        "\"GY\":\"Guyana\",\n",
        "\"HT\":\"Haiti\",\n",
        "\"HM\":\"Heard Island and McDonald Islands\",\n",
        "\"VA\":\"Holy See (Vatican City State)\",\n",
        "\"HN\":\"Honduras\",\n",
        "\"HK\":\"Hong Kong\",\n",
        "\"HU\":\"Hungary\",\n",
        "\"IS\":\"Iceland\",\n",
        "\"IN\":\"India\",\n",
        "\"ID\":\"Indonesia\",\n",
        "\"IR\":\"Iran, Islamic Republic of\",\n",
        "\"IQ\":\"Iraq\",\n",
        "\"IE\":\"Ireland\",\n",
        "\"IM\":\"Isle of Man\",\n",
        "\"IL\":\"Israel\",\n",
        "\"IT\":\"Italy\",\n",
        "\"JM\":\"Jamaica\",\n",
        "\"JP\":\"Japan\",\n",
        "\"JE\":\"Jersey\",\n",
        "\"JO\":\"Jordan\",\n",
        "\"KZ\":\"Kazakhstan\",\n",
        "\"KE\":\"Kenya\",\n",
        "\"KI\":\"Kiribati\",\n",
        "\"KP\":\"Korea, Democratic People's Republic of\",\n",
        "\"KR\":\"Korea, Republic of\",\n",
        "\"KW\":\"Kuwait\",\n",
        "\"KG\":\"Kyrgyzstan\",\n",
        "\"LA\":\"Lao People's Democratic Republic\",\n",
        "\"LV\":\"Latvia\",\n",
        "\"LB\":\"Lebanon\",\n",
        "\"LS\":\"Lesotho\",\n",
        "\"LR\":\"Liberia\",\n",
        "\"LY\":\"Libya\",\n",
        "\"LI\":\"Liechtenstein\",\n",
        "\"LT\":\"Lithuania\",\n",
        "\"LU\":\"Luxembourg\",\n",
        "\"MO\":\"Macao\",\n",
        "\"MK\":\"Macedonia, Republic of\",\n",
        "\"MG\":\"Madagascar\",\n",
        "\"MW\":\"Malawi\",\n",
        "\"MY\":\"Malaysia\",\n",
        "\"MV\":\"Maldives\",\n",
        "\"ML\":\"Mali\",\n",
        "\"MT\":\"Malta\",\n",
        "\"MH\":\"Marshall Islands\",\n",
        "\"MQ\":\"Martinique\",\n",
        "\"MR\":\"Mauritania\",\n",
        "\"MU\":\"Mauritius\",\n",
        "\"YT\":\"Mayotte\",\n",
        "\"MX\":\"Mexico\",\n",
        "\"FM\":\"Micronesia, Federated States of\",\n",
        "\"MD\":\"Moldova, Republic of\",\n",
        "\"MC\":\"Monaco\",\n",
        "\"MN\":\"Mongolia\",\n",
        "\"ME\":\"Montenegro\",\n",
        "\"MS\":\"Montserrat\",\n",
        "\"MA\":\"Morocco\",\n",
        "\"MZ\":\"Mozambique\",\n",
        "\"MM\":\"Myanmar\",\n",
        "\"NA\":\"Namibia\",\n",
        "\"NR\":\"Nauru\",\n",
        "\"NP\":\"Nepal\",\n",
        "\"NL\":\"Netherlands\",\n",
        "\"NC\":\"New Caledonia\",\n",
        "\"NZ\":\"New Zealand\",\n",
        "\"NI\":\"Nicaragua\",\n",
        "\"NE\":\"Niger\",\n",
        "\"NG\":\"Nigeria\",\n",
        "\"NU\":\"Niue\",\n",
        "\"NF\":\"Norfolk Island\",\n",
        "\"MP\":\"Northern Mariana Islands\",\n",
        "\"NO\":\"Norway\",\n",
        "\"OM\":\"Oman\",\n",
        "\"PK\":\"Pakistan\",\n",
        "\"PW\":\"Palau\",\n",
        "\"PS\":\"Palestinian Territory, Occupied\",\n",
        "\"PA\":\"Panama\",\n",
        "\"PG\":\"Papua New Guinea\",\n",
        "\"PY\":\"Paraguay\",\n",
        "\"PE\":\"Peru\",\n",
        "\"PH\":\"Philippines\",\n",
        "\"PN\":\"Pitcairn\",\n",
        "\"PL\":\"Poland\",\n",
        "\"PT\":\"Portugal\",\n",
        "\"PR\":\"Puerto Rico\",\n",
        "\"QA\":\"Qatar\",\n",
        "\"RE\":\"Réunion\",\n",
        "\"RO\":\"Romania\",\n",
        "\"RU\":\"Russian Federation\",\n",
        "\"RW\":\"Rwanda\",\n",
        "\"BL\":\"Saint Barthélemy\",\n",
        "\"SH\":\"Saint Helena, Ascension and Tristan da Cunha\",\n",
        "\"KN\":\"Saint Kitts and Nevis\",\n",
        "\"LC\":\"Saint Lucia\",\n",
        "\"MF\":\"Saint Martin (French part)\",\n",
        "\"PM\":\"Saint Pierre and Miquelon\",\n",
        "\"VC\":\"Saint Vincent and the Grenadines\",\n",
        "\"WS\":\"Samoa\",\n",
        "\"SM\":\"San Marino\",\n",
        "\"ST\":\"Sao Tome and Principe\",\n",
        "\"SA\":\"Saudi Arabia\",\n",
        "\"SN\":\"Senegal\",\n",
        "\"RS\":\"Serbia\",\n",
        "\"SC\":\"Seychelles\",\n",
        "\"SL\":\"Sierra Leone\",\n",
        "\"SG\":\"Singapore\",\n",
        "\"SX\":\"Sint Maarten (Dutch part)\",\n",
        "\"SK\":\"Slovakia\",\n",
        "\"SI\":\"Slovenia\",\n",
        "\"SB\":\"Solomon Islands\",\n",
        "\"SO\":\"Somalia\",\n",
        "\"ZA\":\"South Africa\",\n",
        "\"GS\":\"South Georgia and the South Sandwich Islands\",\n",
        "\"ES\":\"Spain\",\n",
        "\"LK\":\"Sri Lanka\",\n",
        "\"SD\":\"Sudan\",\n",
        "\"SR\":\"Suriname\",\n",
        "\"SS\":\"South Sudan\",\n",
        "\"SJ\":\"Svalbard and Jan Mayen\",\n",
        "\"SZ\":\"Swaziland\",\n",
        "\"SE\":\"Sweden\",\n",
        "\"CH\":\"Switzerland\",\n",
        "\"SY\":\"Syrian Arab Republic\",\n",
        "\"TW\":\"Taiwan, Province of China\",\n",
        "\"TJ\":\"Tajikistan\",\n",
        "\"TZ\":\"Tanzania, United Republic of\",\n",
        "\"TH\":\"Thailand\",\n",
        "\"TL\":\"Timor-Leste\",\n",
        "\"TG\":\"Togo\",\n",
        "\"TK\":\"Tokelau\",\n",
        "\"TO\":\"Tonga\",\n",
        "\"TT\":\"Trinidad and Tobago\",\n",
        "\"TN\":\"Tunisia\",\n",
        "\"TR\":\"Turkey\",\n",
        "\"TM\":\"Turkmenistan\",\n",
        "\"TC\":\"Turks and Caicos Islands\",\n",
        "\"TV\":\"Tuvalu\",\n",
        "\"UG\":\"Uganda\",\n",
        "\"UA\":\"Ukraine\",\n",
        "\"AE\":\"United Arab Emirates\",\n",
        "\"GB\":\"United Kingdom\",\n",
        "\"US\":\"United States\",\n",
        "\"UM\":\"United States Minor Outlying Islands\",\n",
        "\"UY\":\"Uruguay\",\n",
        "\"UZ\":\"Uzbekistan\",\n",
        "\"VU\":\"Vanuatu\",\n",
        "\"VE\":\"Venezuela, Bolivarian Republic of\",\n",
        "\"VN\":\"Viet Nam\",\n",
        "\"VG\":\"Virgin Islands, British\",\n",
        "\"VI\":\"Virgin Islands, U.S.\",\n",
        "\"WF\":\"Wallis and Futuna\",\n",
        "\"EH\":\"Western Sahara\",\n",
        "\"YE\":\"Yemen\",\n",
        "\"ZM\":\"Zambia\",\n",
        "\"ZW\":\"Zimbabwe\"}"
      ],
      "metadata": {
        "id": "ovtoWE2ei4ec"
      },
      "id": "ovtoWE2ei4ec",
      "execution_count": 151,
      "outputs": []
    },
    {
      "cell_type": "code",
      "source": [
        "df5[\"company_location_country\"] =  df5[\"company_location\"].map(short2long)"
      ],
      "metadata": {
        "id": "6ST3-McRjAIA"
      },
      "id": "6ST3-McRjAIA",
      "execution_count": 152,
      "outputs": []
    },
    {
      "cell_type": "code",
      "source": [
        "df5"
      ],
      "metadata": {
        "colab": {
          "base_uri": "https://localhost:8080/",
          "height": 803
        },
        "id": "iBD3TACsjRUH",
        "outputId": "6c3f8e80-9337-4d18-cd8f-bf28571ddd62"
      },
      "id": "iBD3TACsjRUH",
      "execution_count": 153,
      "outputs": [
        {
          "output_type": "execute_result",
          "data": {
            "text/plain": [
              "   company_location  salary_in_usd company_location_country\n",
              "0                AT       76352.00                  Austria\n",
              "1                AU       86703.00                Australia\n",
              "2                BR       12901.00                   Brazil\n",
              "3                CA       77787.00                   Canada\n",
              "4                CH      122346.00              Switzerland\n",
              "5                CL       40038.00                    Chile\n",
              "6                DE       69640.14                  Germany\n",
              "7                DZ      100000.00                  Algeria\n",
              "8                ES       41136.67                    Spain\n",
              "9                FR       50085.57                   France\n",
              "10               GB       88177.36           United Kingdom\n",
              "11               HU       35735.00                  Hungary\n",
              "12               IL      119059.00                   Israel\n",
              "13               IN       26108.25                    India\n",
              "14               IT       21669.00                    Italy\n",
              "15               LU       62726.00               Luxembourg\n",
              "16               MX        2859.00                   Mexico\n",
              "17               MY       40000.00                 Malaysia\n",
              "18               NG       50000.00                  Nigeria\n",
              "19               PL       35590.00                   Poland\n",
              "20               TR       20171.00                   Turkey\n",
              "21               UA       13400.00                  Ukraine\n",
              "22               US      143115.68            United States\n",
              "23               VN        4000.00                 Viet Nam"
            ],
            "text/html": [
              "\n",
              "  <div id=\"df-d13e5da1-c246-4968-99d9-4c355726cefd\">\n",
              "    <div class=\"colab-df-container\">\n",
              "      <div>\n",
              "<style scoped>\n",
              "    .dataframe tbody tr th:only-of-type {\n",
              "        vertical-align: middle;\n",
              "    }\n",
              "\n",
              "    .dataframe tbody tr th {\n",
              "        vertical-align: top;\n",
              "    }\n",
              "\n",
              "    .dataframe thead th {\n",
              "        text-align: right;\n",
              "    }\n",
              "</style>\n",
              "<table border=\"1\" class=\"dataframe\">\n",
              "  <thead>\n",
              "    <tr style=\"text-align: right;\">\n",
              "      <th></th>\n",
              "      <th>company_location</th>\n",
              "      <th>salary_in_usd</th>\n",
              "      <th>company_location_country</th>\n",
              "    </tr>\n",
              "  </thead>\n",
              "  <tbody>\n",
              "    <tr>\n",
              "      <th>0</th>\n",
              "      <td>AT</td>\n",
              "      <td>76352.00</td>\n",
              "      <td>Austria</td>\n",
              "    </tr>\n",
              "    <tr>\n",
              "      <th>1</th>\n",
              "      <td>AU</td>\n",
              "      <td>86703.00</td>\n",
              "      <td>Australia</td>\n",
              "    </tr>\n",
              "    <tr>\n",
              "      <th>2</th>\n",
              "      <td>BR</td>\n",
              "      <td>12901.00</td>\n",
              "      <td>Brazil</td>\n",
              "    </tr>\n",
              "    <tr>\n",
              "      <th>3</th>\n",
              "      <td>CA</td>\n",
              "      <td>77787.00</td>\n",
              "      <td>Canada</td>\n",
              "    </tr>\n",
              "    <tr>\n",
              "      <th>4</th>\n",
              "      <td>CH</td>\n",
              "      <td>122346.00</td>\n",
              "      <td>Switzerland</td>\n",
              "    </tr>\n",
              "    <tr>\n",
              "      <th>5</th>\n",
              "      <td>CL</td>\n",
              "      <td>40038.00</td>\n",
              "      <td>Chile</td>\n",
              "    </tr>\n",
              "    <tr>\n",
              "      <th>6</th>\n",
              "      <td>DE</td>\n",
              "      <td>69640.14</td>\n",
              "      <td>Germany</td>\n",
              "    </tr>\n",
              "    <tr>\n",
              "      <th>7</th>\n",
              "      <td>DZ</td>\n",
              "      <td>100000.00</td>\n",
              "      <td>Algeria</td>\n",
              "    </tr>\n",
              "    <tr>\n",
              "      <th>8</th>\n",
              "      <td>ES</td>\n",
              "      <td>41136.67</td>\n",
              "      <td>Spain</td>\n",
              "    </tr>\n",
              "    <tr>\n",
              "      <th>9</th>\n",
              "      <td>FR</td>\n",
              "      <td>50085.57</td>\n",
              "      <td>France</td>\n",
              "    </tr>\n",
              "    <tr>\n",
              "      <th>10</th>\n",
              "      <td>GB</td>\n",
              "      <td>88177.36</td>\n",
              "      <td>United Kingdom</td>\n",
              "    </tr>\n",
              "    <tr>\n",
              "      <th>11</th>\n",
              "      <td>HU</td>\n",
              "      <td>35735.00</td>\n",
              "      <td>Hungary</td>\n",
              "    </tr>\n",
              "    <tr>\n",
              "      <th>12</th>\n",
              "      <td>IL</td>\n",
              "      <td>119059.00</td>\n",
              "      <td>Israel</td>\n",
              "    </tr>\n",
              "    <tr>\n",
              "      <th>13</th>\n",
              "      <td>IN</td>\n",
              "      <td>26108.25</td>\n",
              "      <td>India</td>\n",
              "    </tr>\n",
              "    <tr>\n",
              "      <th>14</th>\n",
              "      <td>IT</td>\n",
              "      <td>21669.00</td>\n",
              "      <td>Italy</td>\n",
              "    </tr>\n",
              "    <tr>\n",
              "      <th>15</th>\n",
              "      <td>LU</td>\n",
              "      <td>62726.00</td>\n",
              "      <td>Luxembourg</td>\n",
              "    </tr>\n",
              "    <tr>\n",
              "      <th>16</th>\n",
              "      <td>MX</td>\n",
              "      <td>2859.00</td>\n",
              "      <td>Mexico</td>\n",
              "    </tr>\n",
              "    <tr>\n",
              "      <th>17</th>\n",
              "      <td>MY</td>\n",
              "      <td>40000.00</td>\n",
              "      <td>Malaysia</td>\n",
              "    </tr>\n",
              "    <tr>\n",
              "      <th>18</th>\n",
              "      <td>NG</td>\n",
              "      <td>50000.00</td>\n",
              "      <td>Nigeria</td>\n",
              "    </tr>\n",
              "    <tr>\n",
              "      <th>19</th>\n",
              "      <td>PL</td>\n",
              "      <td>35590.00</td>\n",
              "      <td>Poland</td>\n",
              "    </tr>\n",
              "    <tr>\n",
              "      <th>20</th>\n",
              "      <td>TR</td>\n",
              "      <td>20171.00</td>\n",
              "      <td>Turkey</td>\n",
              "    </tr>\n",
              "    <tr>\n",
              "      <th>21</th>\n",
              "      <td>UA</td>\n",
              "      <td>13400.00</td>\n",
              "      <td>Ukraine</td>\n",
              "    </tr>\n",
              "    <tr>\n",
              "      <th>22</th>\n",
              "      <td>US</td>\n",
              "      <td>143115.68</td>\n",
              "      <td>United States</td>\n",
              "    </tr>\n",
              "    <tr>\n",
              "      <th>23</th>\n",
              "      <td>VN</td>\n",
              "      <td>4000.00</td>\n",
              "      <td>Viet Nam</td>\n",
              "    </tr>\n",
              "  </tbody>\n",
              "</table>\n",
              "</div>\n",
              "      <button class=\"colab-df-convert\" onclick=\"convertToInteractive('df-d13e5da1-c246-4968-99d9-4c355726cefd')\"\n",
              "              title=\"Convert this dataframe to an interactive table.\"\n",
              "              style=\"display:none;\">\n",
              "        \n",
              "  <svg xmlns=\"http://www.w3.org/2000/svg\" height=\"24px\"viewBox=\"0 0 24 24\"\n",
              "       width=\"24px\">\n",
              "    <path d=\"M0 0h24v24H0V0z\" fill=\"none\"/>\n",
              "    <path d=\"M18.56 5.44l.94 2.06.94-2.06 2.06-.94-2.06-.94-.94-2.06-.94 2.06-2.06.94zm-11 1L8.5 8.5l.94-2.06 2.06-.94-2.06-.94L8.5 2.5l-.94 2.06-2.06.94zm10 10l.94 2.06.94-2.06 2.06-.94-2.06-.94-.94-2.06-.94 2.06-2.06.94z\"/><path d=\"M17.41 7.96l-1.37-1.37c-.4-.4-.92-.59-1.43-.59-.52 0-1.04.2-1.43.59L10.3 9.45l-7.72 7.72c-.78.78-.78 2.05 0 2.83L4 21.41c.39.39.9.59 1.41.59.51 0 1.02-.2 1.41-.59l7.78-7.78 2.81-2.81c.8-.78.8-2.07 0-2.86zM5.41 20L4 18.59l7.72-7.72 1.47 1.35L5.41 20z\"/>\n",
              "  </svg>\n",
              "      </button>\n",
              "      \n",
              "  <style>\n",
              "    .colab-df-container {\n",
              "      display:flex;\n",
              "      flex-wrap:wrap;\n",
              "      gap: 12px;\n",
              "    }\n",
              "\n",
              "    .colab-df-convert {\n",
              "      background-color: #E8F0FE;\n",
              "      border: none;\n",
              "      border-radius: 50%;\n",
              "      cursor: pointer;\n",
              "      display: none;\n",
              "      fill: #1967D2;\n",
              "      height: 32px;\n",
              "      padding: 0 0 0 0;\n",
              "      width: 32px;\n",
              "    }\n",
              "\n",
              "    .colab-df-convert:hover {\n",
              "      background-color: #E2EBFA;\n",
              "      box-shadow: 0px 1px 2px rgba(60, 64, 67, 0.3), 0px 1px 3px 1px rgba(60, 64, 67, 0.15);\n",
              "      fill: #174EA6;\n",
              "    }\n",
              "\n",
              "    [theme=dark] .colab-df-convert {\n",
              "      background-color: #3B4455;\n",
              "      fill: #D2E3FC;\n",
              "    }\n",
              "\n",
              "    [theme=dark] .colab-df-convert:hover {\n",
              "      background-color: #434B5C;\n",
              "      box-shadow: 0px 1px 3px 1px rgba(0, 0, 0, 0.15);\n",
              "      filter: drop-shadow(0px 1px 2px rgba(0, 0, 0, 0.3));\n",
              "      fill: #FFFFFF;\n",
              "    }\n",
              "  </style>\n",
              "\n",
              "      <script>\n",
              "        const buttonEl =\n",
              "          document.querySelector('#df-d13e5da1-c246-4968-99d9-4c355726cefd button.colab-df-convert');\n",
              "        buttonEl.style.display =\n",
              "          google.colab.kernel.accessAllowed ? 'block' : 'none';\n",
              "\n",
              "        async function convertToInteractive(key) {\n",
              "          const element = document.querySelector('#df-d13e5da1-c246-4968-99d9-4c355726cefd');\n",
              "          const dataTable =\n",
              "            await google.colab.kernel.invokeFunction('convertToInteractive',\n",
              "                                                     [key], {});\n",
              "          if (!dataTable) return;\n",
              "\n",
              "          const docLinkHtml = 'Like what you see? Visit the ' +\n",
              "            '<a target=\"_blank\" href=https://colab.research.google.com/notebooks/data_table.ipynb>data table notebook</a>'\n",
              "            + ' to learn more about interactive tables.';\n",
              "          element.innerHTML = '';\n",
              "          dataTable['output_type'] = 'display_data';\n",
              "          await google.colab.output.renderOutput(dataTable, element);\n",
              "          const docLink = document.createElement('div');\n",
              "          docLink.innerHTML = docLinkHtml;\n",
              "          element.appendChild(docLink);\n",
              "        }\n",
              "      </script>\n",
              "    </div>\n",
              "  </div>\n",
              "  "
            ]
          },
          "metadata": {},
          "execution_count": 153
        }
      ]
    },
    {
      "cell_type": "code",
      "source": [
        "df5 = df5.drop(\"company_location\",axis=1)"
      ],
      "metadata": {
        "id": "0H0aqHOijz9h"
      },
      "id": "0H0aqHOijz9h",
      "execution_count": 158,
      "outputs": []
    },
    {
      "cell_type": "code",
      "source": [
        "#Data Scientist jobs average salary in USD by geographic distribution\n",
        "df5.to_csv(\"/content/drive/MyDrive/SemesterTwo/6600/6600ComputationAndVisualization/Assignment5/DS_salary_location_wise.csv\", index=False)"
      ],
      "metadata": {
        "id": "ao2FwCXi0TRN"
      },
      "id": "ao2FwCXi0TRN",
      "execution_count": 159,
      "outputs": []
    },
    {
      "cell_type": "markdown",
      "source": [
        "**Question 6**"
      ],
      "metadata": {
        "id": "DO-YskeX01IN"
      },
      "id": "DO-YskeX01IN"
    },
    {
      "cell_type": "code",
      "source": [
        "# geographies with more data science jobs than other roles"
      ],
      "metadata": {
        "id": "f3IEc3m100hZ"
      },
      "id": "f3IEc3m100hZ",
      "execution_count": null,
      "outputs": []
    },
    {
      "cell_type": "code",
      "source": [
        "df6_final"
      ],
      "metadata": {
        "colab": {
          "base_uri": "https://localhost:8080/",
          "height": 270
        },
        "id": "rB0P6mSTjhIE",
        "outputId": "2e9b0f3d-cb04-4b5e-d5a5-b363b2a18683"
      },
      "id": "rB0P6mSTjhIE",
      "execution_count": 156,
      "outputs": [
        {
          "output_type": "execute_result",
          "data": {
            "text/plain": [
              "Data_science_flag company_location country_location\n",
              "8                               CL            Chile\n",
              "14                              DZ          Algeria\n",
              "22                              HU          Hungary\n",
              "24                              IL           Israel\n",
              "35                              MY         Malaysia\n",
              "47                              UA          Ukraine\n",
              "49                              VN         Viet Nam"
            ],
            "text/html": [
              "\n",
              "  <div id=\"df-2ab7de34-2265-41a6-8b07-d38be37f90e4\">\n",
              "    <div class=\"colab-df-container\">\n",
              "      <div>\n",
              "<style scoped>\n",
              "    .dataframe tbody tr th:only-of-type {\n",
              "        vertical-align: middle;\n",
              "    }\n",
              "\n",
              "    .dataframe tbody tr th {\n",
              "        vertical-align: top;\n",
              "    }\n",
              "\n",
              "    .dataframe thead th {\n",
              "        text-align: right;\n",
              "    }\n",
              "</style>\n",
              "<table border=\"1\" class=\"dataframe\">\n",
              "  <thead>\n",
              "    <tr style=\"text-align: right;\">\n",
              "      <th>Data_science_flag</th>\n",
              "      <th>company_location</th>\n",
              "      <th>country_location</th>\n",
              "    </tr>\n",
              "  </thead>\n",
              "  <tbody>\n",
              "    <tr>\n",
              "      <th>8</th>\n",
              "      <td>CL</td>\n",
              "      <td>Chile</td>\n",
              "    </tr>\n",
              "    <tr>\n",
              "      <th>14</th>\n",
              "      <td>DZ</td>\n",
              "      <td>Algeria</td>\n",
              "    </tr>\n",
              "    <tr>\n",
              "      <th>22</th>\n",
              "      <td>HU</td>\n",
              "      <td>Hungary</td>\n",
              "    </tr>\n",
              "    <tr>\n",
              "      <th>24</th>\n",
              "      <td>IL</td>\n",
              "      <td>Israel</td>\n",
              "    </tr>\n",
              "    <tr>\n",
              "      <th>35</th>\n",
              "      <td>MY</td>\n",
              "      <td>Malaysia</td>\n",
              "    </tr>\n",
              "    <tr>\n",
              "      <th>47</th>\n",
              "      <td>UA</td>\n",
              "      <td>Ukraine</td>\n",
              "    </tr>\n",
              "    <tr>\n",
              "      <th>49</th>\n",
              "      <td>VN</td>\n",
              "      <td>Viet Nam</td>\n",
              "    </tr>\n",
              "  </tbody>\n",
              "</table>\n",
              "</div>\n",
              "      <button class=\"colab-df-convert\" onclick=\"convertToInteractive('df-2ab7de34-2265-41a6-8b07-d38be37f90e4')\"\n",
              "              title=\"Convert this dataframe to an interactive table.\"\n",
              "              style=\"display:none;\">\n",
              "        \n",
              "  <svg xmlns=\"http://www.w3.org/2000/svg\" height=\"24px\"viewBox=\"0 0 24 24\"\n",
              "       width=\"24px\">\n",
              "    <path d=\"M0 0h24v24H0V0z\" fill=\"none\"/>\n",
              "    <path d=\"M18.56 5.44l.94 2.06.94-2.06 2.06-.94-2.06-.94-.94-2.06-.94 2.06-2.06.94zm-11 1L8.5 8.5l.94-2.06 2.06-.94-2.06-.94L8.5 2.5l-.94 2.06-2.06.94zm10 10l.94 2.06.94-2.06 2.06-.94-2.06-.94-.94-2.06-.94 2.06-2.06.94z\"/><path d=\"M17.41 7.96l-1.37-1.37c-.4-.4-.92-.59-1.43-.59-.52 0-1.04.2-1.43.59L10.3 9.45l-7.72 7.72c-.78.78-.78 2.05 0 2.83L4 21.41c.39.39.9.59 1.41.59.51 0 1.02-.2 1.41-.59l7.78-7.78 2.81-2.81c.8-.78.8-2.07 0-2.86zM5.41 20L4 18.59l7.72-7.72 1.47 1.35L5.41 20z\"/>\n",
              "  </svg>\n",
              "      </button>\n",
              "      \n",
              "  <style>\n",
              "    .colab-df-container {\n",
              "      display:flex;\n",
              "      flex-wrap:wrap;\n",
              "      gap: 12px;\n",
              "    }\n",
              "\n",
              "    .colab-df-convert {\n",
              "      background-color: #E8F0FE;\n",
              "      border: none;\n",
              "      border-radius: 50%;\n",
              "      cursor: pointer;\n",
              "      display: none;\n",
              "      fill: #1967D2;\n",
              "      height: 32px;\n",
              "      padding: 0 0 0 0;\n",
              "      width: 32px;\n",
              "    }\n",
              "\n",
              "    .colab-df-convert:hover {\n",
              "      background-color: #E2EBFA;\n",
              "      box-shadow: 0px 1px 2px rgba(60, 64, 67, 0.3), 0px 1px 3px 1px rgba(60, 64, 67, 0.15);\n",
              "      fill: #174EA6;\n",
              "    }\n",
              "\n",
              "    [theme=dark] .colab-df-convert {\n",
              "      background-color: #3B4455;\n",
              "      fill: #D2E3FC;\n",
              "    }\n",
              "\n",
              "    [theme=dark] .colab-df-convert:hover {\n",
              "      background-color: #434B5C;\n",
              "      box-shadow: 0px 1px 3px 1px rgba(0, 0, 0, 0.15);\n",
              "      filter: drop-shadow(0px 1px 2px rgba(0, 0, 0, 0.3));\n",
              "      fill: #FFFFFF;\n",
              "    }\n",
              "  </style>\n",
              "\n",
              "      <script>\n",
              "        const buttonEl =\n",
              "          document.querySelector('#df-2ab7de34-2265-41a6-8b07-d38be37f90e4 button.colab-df-convert');\n",
              "        buttonEl.style.display =\n",
              "          google.colab.kernel.accessAllowed ? 'block' : 'none';\n",
              "\n",
              "        async function convertToInteractive(key) {\n",
              "          const element = document.querySelector('#df-2ab7de34-2265-41a6-8b07-d38be37f90e4');\n",
              "          const dataTable =\n",
              "            await google.colab.kernel.invokeFunction('convertToInteractive',\n",
              "                                                     [key], {});\n",
              "          if (!dataTable) return;\n",
              "\n",
              "          const docLinkHtml = 'Like what you see? Visit the ' +\n",
              "            '<a target=\"_blank\" href=https://colab.research.google.com/notebooks/data_table.ipynb>data table notebook</a>'\n",
              "            + ' to learn more about interactive tables.';\n",
              "          element.innerHTML = '';\n",
              "          dataTable['output_type'] = 'display_data';\n",
              "          await google.colab.output.renderOutput(dataTable, element);\n",
              "          const docLink = document.createElement('div');\n",
              "          docLink.innerHTML = docLinkHtml;\n",
              "          element.appendChild(docLink);\n",
              "        }\n",
              "      </script>\n",
              "    </div>\n",
              "  </div>\n",
              "  "
            ]
          },
          "metadata": {},
          "execution_count": 156
        }
      ]
    },
    {
      "cell_type": "code",
      "source": [
        "df6_final[\"country_location\"] = df6_final[\"company_location\"].map(short2long)"
      ],
      "metadata": {
        "colab": {
          "base_uri": "https://localhost:8080/"
        },
        "id": "G-vT_WibjZ3e",
        "outputId": "0b47704f-26e1-41a6-8404-9aa3139bc953"
      },
      "id": "G-vT_WibjZ3e",
      "execution_count": 155,
      "outputs": [
        {
          "output_type": "stream",
          "name": "stderr",
          "text": [
            "/usr/local/lib/python3.7/dist-packages/ipykernel_launcher.py:1: SettingWithCopyWarning: \n",
            "A value is trying to be set on a copy of a slice from a DataFrame.\n",
            "Try using .loc[row_indexer,col_indexer] = value instead\n",
            "\n",
            "See the caveats in the documentation: https://pandas.pydata.org/pandas-docs/stable/user_guide/indexing.html#returning-a-view-versus-a-copy\n",
            "  \"\"\"Entry point for launching an IPython kernel.\n"
          ]
        }
      ]
    },
    {
      "cell_type": "code",
      "source": [
        "df6_final = df6_final.drop(\"company_location\",axis=1)"
      ],
      "metadata": {
        "id": "bK9u01bKjr6s"
      },
      "id": "bK9u01bKjr6s",
      "execution_count": 157,
      "outputs": []
    },
    {
      "cell_type": "code",
      "source": [
        "df6_final.to_csv(\"/content/drive/MyDrive/SemesterTwo/6600/6600ComputationAndVisualization/Assignment5/locations_with_moreDS_jobs.csv\", index=False)"
      ],
      "metadata": {
        "id": "GWGeFvzu1Dh0"
      },
      "id": "GWGeFvzu1Dh0",
      "execution_count": 160,
      "outputs": []
    }
  ],
  "metadata": {
    "kernelspec": {
      "display_name": "Python 3",
      "language": "python",
      "name": "python3"
    },
    "language_info": {
      "codemirror_mode": {
        "name": "ipython",
        "version": 3
      },
      "file_extension": ".py",
      "mimetype": "text/x-python",
      "name": "python",
      "nbconvert_exporter": "python",
      "pygments_lexer": "ipython3",
      "version": "3.7.12"
    },
    "papermill": {
      "default_parameters": {},
      "duration": 12.326564,
      "end_time": "2022-07-27T20:44:42.036818",
      "environment_variables": {},
      "exception": null,
      "input_path": "__notebook__.ipynb",
      "output_path": "__notebook__.ipynb",
      "parameters": {},
      "start_time": "2022-07-27T20:44:29.710254",
      "version": "2.3.4"
    },
    "colab": {
      "name": "Assignment5.ipynb",
      "provenance": [],
      "collapsed_sections": [
        "c95rTizGuAXH"
      ]
    }
  },
  "nbformat": 4,
  "nbformat_minor": 5
}